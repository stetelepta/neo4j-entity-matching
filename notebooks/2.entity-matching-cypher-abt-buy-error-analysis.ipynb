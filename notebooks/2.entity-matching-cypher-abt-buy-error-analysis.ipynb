{
 "cells": [
  {
   "cell_type": "markdown",
   "id": "8e7e7b80-d626-4094-86e9-c62bca2c997c",
   "metadata": {},
   "source": [
    "# Entity Matching using Neo4j - Error analysis\n",
    "\n",
    "_Salomon Tetelepta, April 27th 2024_\n",
    "* Notebook to dig into the errors that remain after entity matching using a graph representation of the Abt-Buy Dataset"
   ]
  },
  {
   "cell_type": "markdown",
   "id": "c8b93c37-f0a9-46c8-82e9-dd7ff1f6f2f0",
   "metadata": {},
   "source": [
    "### Install dependencies"
   ]
  },
  {
   "cell_type": "code",
   "execution_count": 1,
   "id": "722da72e-0aaf-4023-bdc4-22853d1c9cb8",
   "metadata": {
    "tags": []
   },
   "outputs": [
    {
     "name": "stdout",
     "output_type": "stream",
     "text": [
      "neo4j: 5.17.0\n",
      "\n"
     ]
    }
   ],
   "source": [
    "!pip install neo4j python-dotenv langchain-community --quiet\n",
    "\n",
    "%load_ext watermark\n",
    "%watermark -p neo4j"
   ]
  },
  {
   "cell_type": "markdown",
   "id": "9f718c68-90df-407e-87e3-8235c2f06180",
   "metadata": {},
   "source": [
    "### Imports"
   ]
  },
  {
   "cell_type": "code",
   "execution_count": 2,
   "id": "b3a5300d-35fe-4929-b7a8-ded5d5d64a1c",
   "metadata": {
    "tags": []
   },
   "outputs": [],
   "source": [
    "from dotenv import load_dotenv, find_dotenv, dotenv_values\n",
    "from langchain_community.graphs import Neo4jGraph\n",
    "from pathlib import Path\n",
    "from sklearn.manifold import TSNE\n",
    "from sklearn.metrics import PrecisionRecallDisplay\n",
    "from sklearn.metrics import accuracy_score, classification_report, confusion_matrix, f1_score\n",
    "from sklearn.metrics import precision_recall_fscore_support\n",
    "from sklearn.metrics.pairwise import cosine_similarity\n",
    "from sklearn.model_selection import train_test_split\n",
    "from sklearn.tree import DecisionTreeClassifier\n",
    "from wordfreq import lossy_tokenize, tokenize, word_frequency\n",
    "\n",
    "import json\n",
    "import matplotlib.pyplot as plt\n",
    "import neo4j\n",
    "import numpy as np\n",
    "\n",
    "import os\n",
    "import pandas as pd\n",
    "import pickle\n",
    "import re"
   ]
  },
  {
   "cell_type": "markdown",
   "id": "9836fbd4-fa26-49c7-b758-d01d2fc2e97c",
   "metadata": {},
   "source": [
    "### Settings"
   ]
  },
  {
   "cell_type": "code",
   "execution_count": 3,
   "id": "41d7b49c-ce17-42d0-85cc-fe21f86a8318",
   "metadata": {
    "tags": []
   },
   "outputs": [],
   "source": [
    "# path settings\n",
    "project_path = Path(os.getcwd()).parent\n",
    "data_path = project_path / \"data\"\n",
    "output_path = project_path / \"output\"\n",
    "\n",
    "database = \"abt-buy\"\n",
    "\n",
    "# load env settings\n",
    "load_dotenv(project_path / \".env\")\n",
    "\n",
    "# reproducability\n",
    "np.random.seed(42)"
   ]
  },
  {
   "cell_type": "markdown",
   "id": "8dfbe0a7-229a-47b5-8f9c-88bb567b0889",
   "metadata": {},
   "source": [
    "### 1. Load Data"
   ]
  },
  {
   "cell_type": "code",
   "execution_count": 4,
   "id": "28d3c50b",
   "metadata": {
    "tags": []
   },
   "outputs": [
    {
     "data": {
      "text/plain": [
       "['2_buy.csv', '1_abt.csv']"
      ]
     },
     "execution_count": 4,
     "metadata": {},
     "output_type": "execute_result"
    }
   ],
   "source": [
    "os.listdir(data_path / 'abt-buy' / 'record_descriptions')"
   ]
  },
  {
   "cell_type": "code",
   "execution_count": 5,
   "id": "4237c131-bcea-41b1-8664-881d6315ebf2",
   "metadata": {
    "tags": []
   },
   "outputs": [
    {
     "data": {
      "text/html": [
       "<div>\n",
       "<style scoped>\n",
       "    .dataframe tbody tr th:only-of-type {\n",
       "        vertical-align: middle;\n",
       "    }\n",
       "\n",
       "    .dataframe tbody tr th {\n",
       "        vertical-align: top;\n",
       "    }\n",
       "\n",
       "    .dataframe thead th {\n",
       "        text-align: right;\n",
       "    }\n",
       "</style>\n",
       "<table border=\"1\" class=\"dataframe\">\n",
       "  <thead>\n",
       "    <tr style=\"text-align: right;\">\n",
       "      <th></th>\n",
       "      <th>subject_id_x</th>\n",
       "      <th>name_x</th>\n",
       "      <th>description_x</th>\n",
       "      <th>manufacturer</th>\n",
       "      <th>price_x</th>\n",
       "      <th>subject_id_y</th>\n",
       "      <th>name_y</th>\n",
       "      <th>description_y</th>\n",
       "      <th>price_y</th>\n",
       "      <th>source_id</th>\n",
       "      <th>target_id</th>\n",
       "      <th>matching</th>\n",
       "    </tr>\n",
       "  </thead>\n",
       "  <tbody>\n",
       "    <tr>\n",
       "      <th>0</th>\n",
       "      <td>207390654</td>\n",
       "      <td>Sony Handycam HDR-SR10 High Definition Digital...</td>\n",
       "      <td>16:9 - 2.7' Hybrid LCD</td>\n",
       "      <td>Sony</td>\n",
       "      <td>549.0</td>\n",
       "      <td>33161</td>\n",
       "      <td>Sony High Definition HDV Handycam Camcorder - ...</td>\n",
       "      <td>Sony High Definition HDV Handycam Camcorder - ...</td>\n",
       "      <td>NaN</td>\n",
       "      <td>33161</td>\n",
       "      <td>207390654</td>\n",
       "      <td>False</td>\n",
       "    </tr>\n",
       "    <tr>\n",
       "      <th>1</th>\n",
       "      <td>208085180</td>\n",
       "      <td>Pioneer DEH-2000MP Car Audio Player</td>\n",
       "      <td>CD-RW - CD-Text, MP3, WMA, WAV - LCD - 4 - 200...</td>\n",
       "      <td>Pioneer</td>\n",
       "      <td>84.0</td>\n",
       "      <td>36258</td>\n",
       "      <td>D-Link Broadband Cable Modem - DCM202</td>\n",
       "      <td>D-Link Broadband Cable Modem - DCM202/ DOCSIS ...</td>\n",
       "      <td>79.00</td>\n",
       "      <td>36258</td>\n",
       "      <td>208085180</td>\n",
       "      <td>False</td>\n",
       "    </tr>\n",
       "    <tr>\n",
       "      <th>2</th>\n",
       "      <td>90125786</td>\n",
       "      <td>Sanus Wall/Ceiling Speaker Mount - WMS3S SILVER</td>\n",
       "      <td>Plastic - 8 lb</td>\n",
       "      <td>Sanus</td>\n",
       "      <td>NaN</td>\n",
       "      <td>17417</td>\n",
       "      <td>Sanus 13' - 30' VisionMount Flat Panel TV Silv...</td>\n",
       "      <td>Sanus 13' - 30' VisionMount Flat Panel TV Silv...</td>\n",
       "      <td>39.99</td>\n",
       "      <td>17417</td>\n",
       "      <td>90125786</td>\n",
       "      <td>False</td>\n",
       "    </tr>\n",
       "  </tbody>\n",
       "</table>\n",
       "</div>"
      ],
      "text/plain": [
       "   subject_id_x                                             name_x  \\\n",
       "0     207390654  Sony Handycam HDR-SR10 High Definition Digital...   \n",
       "1     208085180                Pioneer DEH-2000MP Car Audio Player   \n",
       "2      90125786    Sanus Wall/Ceiling Speaker Mount - WMS3S SILVER   \n",
       "\n",
       "                                       description_x manufacturer  price_x  \\\n",
       "0                             16:9 - 2.7' Hybrid LCD         Sony    549.0   \n",
       "1  CD-RW - CD-Text, MP3, WMA, WAV - LCD - 4 - 200...      Pioneer     84.0   \n",
       "2                                     Plastic - 8 lb        Sanus      NaN   \n",
       "\n",
       "   subject_id_y                                             name_y  \\\n",
       "0         33161  Sony High Definition HDV Handycam Camcorder - ...   \n",
       "1         36258              D-Link Broadband Cable Modem - DCM202   \n",
       "2         17417  Sanus 13' - 30' VisionMount Flat Panel TV Silv...   \n",
       "\n",
       "                                       description_y  price_y  source_id  \\\n",
       "0  Sony High Definition HDV Handycam Camcorder - ...      NaN      33161   \n",
       "1  D-Link Broadband Cable Modem - DCM202/ DOCSIS ...    79.00      36258   \n",
       "2  Sanus 13' - 30' VisionMount Flat Panel TV Silv...    39.99      17417   \n",
       "\n",
       "   target_id  matching  \n",
       "0  207390654     False  \n",
       "1  208085180     False  \n",
       "2   90125786     False  "
      ]
     },
     "execution_count": 5,
     "metadata": {},
     "output_type": "execute_result"
    }
   ],
   "source": [
    "# abt and buy records\n",
    "df_abt = pd.read_csv(data_path / 'abt-buy' / 'record_descriptions' / '1_abt.csv', encoding='unicode_escape')\n",
    "df_buy = pd.read_csv(data_path / 'abt-buy' / 'record_descriptions' / '2_buy.csv')\n",
    "\n",
    "# matches - train and validation set\n",
    "df_train = pd.read_csv(data_path / 'abt-buy' / 'gs_train.csv')\n",
    "df_val = pd.read_csv(data_path / 'abt-buy' / 'gs_val.csv')\n",
    "df_test = pd.read_csv(data_path / 'abt-buy' / 'gs_test.csv')\n",
    "\n",
    "# merge records with matches\n",
    "df_abt_merged = df_abt.merge(df_train, left_on='subject_id', right_on='source_id', how='right')\n",
    "df_train_merged = df_buy.merge(df_abt_merged, left_on='subject_id', right_on='target_id', how='right')\n",
    "\n",
    "df_train_merged.head(3)"
   ]
  },
  {
   "cell_type": "markdown",
   "id": "124aa4ad-667e-4c84-a38c-44c27a3e7fbe",
   "metadata": {},
   "source": [
    "### Connect to Neo4j"
   ]
  },
  {
   "cell_type": "code",
   "execution_count": 6,
   "id": "a70a5c39-9f21-49b4-905e-1385499f93e2",
   "metadata": {
    "tags": []
   },
   "outputs": [
    {
     "name": "stdout",
     "output_type": "stream",
     "text": [
      "database: abt-buy\n"
     ]
    },
    {
     "data": {
      "text/plain": [
       "[{'count(n)': 25884}]"
      ]
     },
     "execution_count": 6,
     "metadata": {},
     "output_type": "execute_result"
    }
   ],
   "source": [
    "# connect to Neo4j\n",
    "graph = Neo4jGraph(\n",
    "    url=os.getenv('NEO4J_URL'),\n",
    "    username=os.getenv('NEO4J_USER'),\n",
    "    password=os.getenv('NEO4J_PASS')\n",
    ")\n",
    "\n",
    "# create database if does not exist\n",
    "graph._database = \"system\"\n",
    "query = f\"CREATE DATABASE `{database}` IF NOT EXISTS\"\n",
    "graph.query(query)\n",
    "\n",
    "# change to target database\n",
    "graph._database = database\n",
    "print(\"database:\", graph._database)\n",
    "\n",
    "# check nr nodes in the graph\n",
    "graph.query(\"MATCH (n) RETURN count(n)\")"
   ]
  },
  {
   "cell_type": "markdown",
   "id": "6255543f",
   "metadata": {},
   "source": [
    "### Error analysis"
   ]
  },
  {
   "cell_type": "markdown",
   "id": "6540041a",
   "metadata": {},
   "source": [
    "#### Analysis Errors on the training set"
   ]
  },
  {
   "cell_type": "code",
   "execution_count": 7,
   "id": "5adf2221",
   "metadata": {},
   "outputs": [
    {
     "name": "stdout",
     "output_type": "stream",
     "text": [
      "CPU times: user 122 ms, sys: 14.8 ms, total: 137 ms\n",
      "Wall time: 155 ms\n"
     ]
    },
    {
     "data": {
      "text/html": [
       "<div>\n",
       "<style scoped>\n",
       "    .dataframe tbody tr th:only-of-type {\n",
       "        vertical-align: middle;\n",
       "    }\n",
       "\n",
       "    .dataframe tbody tr th {\n",
       "        vertical-align: top;\n",
       "    }\n",
       "\n",
       "    .dataframe thead th {\n",
       "        text-align: right;\n",
       "    }\n",
       "</style>\n",
       "<table border=\"1\" class=\"dataframe\">\n",
       "  <thead>\n",
       "    <tr style=\"text-align: right;\">\n",
       "      <th></th>\n",
       "      <th>name_degree_threshold</th>\n",
       "      <th>model</th>\n",
       "      <th>prec</th>\n",
       "      <th>recall</th>\n",
       "      <th>fscore</th>\n",
       "    </tr>\n",
       "  </thead>\n",
       "  <tbody>\n",
       "    <tr>\n",
       "      <th>0</th>\n",
       "      <td>6</td>\n",
       "      <td>shared_word_threshold_6</td>\n",
       "      <td>0.835427</td>\n",
       "      <td>0.69055</td>\n",
       "      <td>0.756111</td>\n",
       "    </tr>\n",
       "  </tbody>\n",
       "</table>\n",
       "</div>"
      ],
      "text/plain": [
       "   name_degree_threshold                    model      prec   recall    fscore\n",
       "0                      6  shared_word_threshold_6  0.835427  0.69055  0.756111"
      ]
     },
     "execution_count": 7,
     "metadata": {},
     "output_type": "execute_result"
    }
   ],
   "source": [
    "%%time\n",
    "\n",
    "results = []\n",
    "\n",
    "name_degree_threshold = 6\n",
    "query = f\"\"\"\n",
    "MATCH p1=(i1:Item)-[:HAS_NAME]->(n1:Name)-[:HAS_WORD]->(w:Word)<-[:HAS_WORD]-(n2:Name)<-[:HAS_NAME]-(i2:Item)\n",
    "WHERE n1 <> n2\n",
    "AND w.name_degree < {name_degree_threshold}\n",
    "RETURN i1.subject_id, i2.subject_id\"\"\"\n",
    "df_p = pd.DataFrame(graph.query(query))\n",
    "\n",
    "if len(df_p) > 0:\n",
    "\n",
    "    df_train_p = df_train.merge(df_p, left_on=['source_id', 'target_id'], right_on=['i1.subject_id', 'i2.subject_id'], how='left')\n",
    "    df_train_p['p'] = df_train_p['i1.subject_id'] > 0\n",
    "\n",
    "    prec, recall, fscore, support = precision_recall_fscore_support(df_train_p['matching'], df_train_p['p'], average='binary')\n",
    "\n",
    "    results.append({'name_degree_threshold': name_degree_threshold, 'model': f'shared_word_threshold_{name_degree_threshold}', 'prec': prec, 'recall': recall, 'fscore': fscore})\n",
    "\n",
    "df_results = pd.DataFrame(results).sort_values('fscore', ascending=False)\n",
    "df_results"
   ]
  },
  {
   "cell_type": "markdown",
   "id": "78099cdc",
   "metadata": {},
   "source": [
    "* Interestingly, fscore on the trainingset (0.756) is lower than on the validation set (0.789)\n"
   ]
  },
  {
   "cell_type": "markdown",
   "id": "2ce460a4",
   "metadata": {},
   "source": [
    "#### Mark errors in the graph"
   ]
  },
  {
   "cell_type": "code",
   "execution_count": 8,
   "id": "197c2a4b",
   "metadata": {},
   "outputs": [
    {
     "data": {
      "text/html": [
       "<div>\n",
       "<style scoped>\n",
       "    .dataframe tbody tr th:only-of-type {\n",
       "        vertical-align: middle;\n",
       "    }\n",
       "\n",
       "    .dataframe tbody tr th {\n",
       "        vertical-align: top;\n",
       "    }\n",
       "\n",
       "    .dataframe thead th {\n",
       "        text-align: right;\n",
       "    }\n",
       "</style>\n",
       "<table border=\"1\" class=\"dataframe\">\n",
       "  <thead>\n",
       "    <tr style=\"text-align: right;\">\n",
       "      <th></th>\n",
       "      <th>tn</th>\n",
       "      <th>tp</th>\n",
       "      <th>fn</th>\n",
       "      <th>fp</th>\n",
       "    </tr>\n",
       "  </thead>\n",
       "  <tbody>\n",
       "    <tr>\n",
       "      <th>error_train</th>\n",
       "      <td>4146</td>\n",
       "      <td>665</td>\n",
       "      <td>298</td>\n",
       "      <td>131</td>\n",
       "    </tr>\n",
       "  </tbody>\n",
       "</table>\n",
       "</div>"
      ],
      "text/plain": [
       "               tn   tp   fn   fp\n",
       "error_train  4146  665  298  131"
      ]
     },
     "execution_count": 8,
     "metadata": {},
     "output_type": "execute_result"
    }
   ],
   "source": [
    "cond_y = (df_train_p['matching'] == True)\n",
    "cond_p = (df_train_p['i1.subject_id'] > 0)\n",
    "\n",
    "errors = {\n",
    "    'tp': cond_y & cond_p,\n",
    "    'fp': ~cond_y & cond_p,\n",
    "    'tn': ~cond_y & ~cond_p,\n",
    "    'fn': cond_y & ~cond_p\n",
    "}\n",
    "\n",
    "for error, cond_error in errors.items():\n",
    "    df_train_p.loc[cond_error, 'error_train'] = error\n",
    "    \n",
    "df_train_p['error_train'].value_counts().to_frame().T"
   ]
  },
  {
   "cell_type": "code",
   "execution_count": 9,
   "id": "339abfce",
   "metadata": {},
   "outputs": [
    {
     "name": "stdout",
     "output_type": "stream",
     "text": [
      "0/5240\n",
      "250/5240\n",
      "500/5240\n",
      "750/5240\n",
      "1000/5240\n",
      "1250/5240\n",
      "1500/5240\n",
      "1750/5240\n",
      "2000/5240\n",
      "2250/5240\n",
      "2500/5240\n",
      "2750/5240\n",
      "3000/5240\n",
      "3250/5240\n",
      "3500/5240\n",
      "3750/5240\n",
      "4000/5240\n",
      "4250/5240\n",
      "4500/5240\n",
      "4750/5240\n",
      "5000/5240\n",
      "CPU times: user 5.71 s, sys: 708 ms, total: 6.41 s\n",
      "Wall time: 24.8 s\n"
     ]
    }
   ],
   "source": [
    "%%time\n",
    "\n",
    "for i, (idx, row) in enumerate(df_train_p.iterrows()):\n",
    "    if i % 250 == 0:\n",
    "        print(f\"{i}/{len(df_train_p)}\")\n",
    "\n",
    "    query = f\"\"\"\n",
    "    MATCH (i1:Item)-[r]->(i2:Item) \n",
    "    WHERE i1.subject_id = {row['source_id']} \n",
    "    AND i2.subject_id={row['target_id']}\n",
    "    MERGE (i1)-[:TRAIN_{row['error_train'].upper()}]->(i2)\n",
    "    RETURN count(distinct r)\n",
    "    \"\"\"\n",
    "    graph.query(query)"
   ]
  },
  {
   "cell_type": "markdown",
   "id": "9d62e983",
   "metadata": {},
   "source": [
    "#### Examples of errors"
   ]
  },
  {
   "cell_type": "markdown",
   "id": "80a69241",
   "metadata": {},
   "source": [
    "<h4>Example of a FP</h4>\n",
    "<ul>\n",
    "    <li><i>Items share words \"Plain\" and \"Fax/Copier\" with name_degree 4</i></li>\n",
    "    <li><i>Model IDS as very different: \"KX-FP145\" vs \"KXFG2451\"</i></li>    \n",
    "</ul>\n",
    "<img src=\"../images/3-example-train-fp.jpg\">\n",
    "<hr>\n",
    "<h4>Example of FN</h4>\n",
    "<ul><li><i>Model ID is different due to a separator \"RDRVX560\" vs \"RDR-VX560\"</i></li></ul>\n",
    "<img src=\"../images/4.1-example-train-fn.jpg\">\n",
    "<h4>Example of FN</h4>\n",
    "<ul>\n",
    "    <li><i>Word matching is still case-sensitive! \"Black\" is not matched to \"BLACK\"</i></li>\n",
    "    <li><i>Model IDS are written differently: \"IH9BR\" vs \"IH9B6R\"</i></li>\n",
    "    </ul>\n",
    "<img src=\"../images/4.2-example-train-fn.jpg\">"
   ]
  },
  {
   "cell_type": "markdown",
   "id": "aa196979",
   "metadata": {},
   "source": [
    "### Add preprocessed Words\n",
    "\n",
    "* Keep the original, but add (:WordLower) to see if performances increases"
   ]
  },
  {
   "cell_type": "code",
   "execution_count": 10,
   "id": "f104ca8f",
   "metadata": {},
   "outputs": [
    {
     "name": "stdout",
     "output_type": "stream",
     "text": [
      "CPU times: user 3.95 ms, sys: 2.6 ms, total: 6.54 ms\n",
      "Wall time: 25.6 s\n"
     ]
    },
    {
     "data": {
      "text/plain": [
       "[]"
      ]
     },
     "execution_count": 10,
     "metadata": {},
     "output_type": "execute_result"
    }
   ],
   "source": [
    "%%time\n",
    "# Wall time: 8.59 s\n",
    "\n",
    "query = \"MATCH (w:Word) MERGE (ww:WordLower {value: toLower(w.value)}) MERGE (w)-[:TO_LOWER]->(ww)\"\n",
    "graph.query(query)"
   ]
  },
  {
   "cell_type": "code",
   "execution_count": 11,
   "id": "84f9bc90",
   "metadata": {},
   "outputs": [
    {
     "data": {
      "text/plain": [
       "[{'count(distinct r)': 60007}]"
      ]
     },
     "execution_count": 11,
     "metadata": {},
     "output_type": "execute_result"
    }
   ],
   "source": [
    "query = \"\"\"\n",
    "\n",
    "MATCH (n)-[r:HAS_WORD]->(w:Word)-[:TO_LOWER]->(ww:WordLower)\n",
    "MERGE (n)-[:HAS_WORD_LOWER]->(ww)\n",
    "RETURN count(distinct r)\"\"\"\n",
    "\n",
    "graph.query(query)"
   ]
  },
  {
   "cell_type": "code",
   "execution_count": 12,
   "id": "744b782e",
   "metadata": {},
   "outputs": [
    {
     "name": "stdout",
     "output_type": "stream",
     "text": [
      "CPU times: user 2.72 ms, sys: 1.52 ms, total: 4.25 ms\n",
      "Wall time: 31.8 ms\n"
     ]
    },
    {
     "data": {
      "text/plain": [
       "[]"
      ]
     },
     "execution_count": 12,
     "metadata": {},
     "output_type": "execute_result"
    }
   ],
   "source": [
    "%%time\n",
    "\n",
    "query = \"MATCH p=(ww:WordLower)<-[:HAS_WORD_LOWER]-(n:Name) WITH ww, count(n) AS name_degree SET ww.name_degree = name_degree;\"\n",
    "graph.query(query)\n",
    "\n",
    "query = \"MATCH p=(ww:WordLower)<-[:HAS_WORD_LOWER]-(n:Description) WITH ww, count(n) AS description_degree SET ww.description_degree = description_degree;\"\n",
    "graph.query(query)"
   ]
  },
  {
   "cell_type": "code",
   "execution_count": 13,
   "id": "b746da22",
   "metadata": {},
   "outputs": [
    {
     "data": {
      "text/plain": [
       "[]"
      ]
     },
     "execution_count": 13,
     "metadata": {},
     "output_type": "execute_result"
    }
   ],
   "source": [
    "query = \"MATCH (ww:WordLower) SET ww.display_value = ww.value + ' (' + ww.name_degree + ')' \"\n",
    "graph.query(query)"
   ]
  },
  {
   "cell_type": "markdown",
   "id": "12a8453f",
   "metadata": {},
   "source": [
    "<h4>Example of a FN with shared preprocessed words </h4>\n",
    "<ul>\n",
    "    <li><i>Left: Model ID can now be matched, this will correct the error</i></li>\n",
    "    <li><i>Right: Very generic word, preprocessing will not correct the error</i></li></ul>        \n",
    "</ul>\n",
    "<img src=\"../images/4.4-example-train-fn-lowercase.jpg\">\n",
    "\n",
    "\n",
    "<h4>Example of a TN with shared preprocessed words </h4>\n",
    "<ul>\n",
    "    <li><i>The model claims this is TN because no rare words are shared (rarity: name_degree < 6)</i></li>\n",
    "    <li><i>However, after pre-processing these items share the word \"6-disc\" which is only shared between these items (name_degree = 2)</i></li>\n",
    "    <li><i>As these items should not be matched, this will result in a FP if you rerun the model with preprocessed words</i></li> \n",
    "</ul>\n",
    "<img src=\"../images/5.example-train-tn-lowercase.jpg\" width=600>\n",
    "\n",
    "\n"
   ]
  },
  {
   "cell_type": "markdown",
   "id": "de93abae",
   "metadata": {},
   "source": [
    "### Investigate items with conflicting groundtruth labels"
   ]
  },
  {
   "cell_type": "markdown",
   "id": "ad0e5fea",
   "metadata": {},
   "source": [
    "<h4>Some items appear to have both True and False matching labels, this looks like a groundtruth error</h4>\n",
    "<img src=\"../images/6-example-match-no-match.jpg\" width=\"600\">"
   ]
  },
  {
   "cell_type": "code",
   "execution_count": 14,
   "id": "cfced8eb",
   "metadata": {},
   "outputs": [
    {
     "data": {
      "text/plain": [
       "[{'i1': {'subject_id': 33522, 'display_value': '33522 (abt)', 'source': 'abt'},\n",
       "  'i2': {'display_value': '207986293 (buy)',\n",
       "   'subject_id': 207986293,\n",
       "   'source': 'buy'}},\n",
       " {'i1': {'subject_id': 22042, 'display_value': '22042 (abt)', 'source': 'abt'},\n",
       "  'i2': {'display_value': '202238311 (buy)',\n",
       "   'subject_id': 202238311,\n",
       "   'source': 'buy'}}]"
      ]
     },
     "execution_count": 14,
     "metadata": {},
     "output_type": "execute_result"
    }
   ],
   "source": [
    "query = \"MATCH p=(i1:Item)-[:IS_MATCH]->(i2:Item)-[:NO_MATCH]-(i1) RETURN i1, i2\"\n",
    "results = graph.query(query)\n",
    "results"
   ]
  },
  {
   "cell_type": "markdown",
   "id": "dee905af",
   "metadata": {},
   "source": [
    "#### Check duplicates in the training set"
   ]
  },
  {
   "cell_type": "code",
   "execution_count": 15,
   "id": "994f773e",
   "metadata": {},
   "outputs": [
    {
     "data": {
      "text/html": [
       "<div>\n",
       "<style scoped>\n",
       "    .dataframe tbody tr th:only-of-type {\n",
       "        vertical-align: middle;\n",
       "    }\n",
       "\n",
       "    .dataframe tbody tr th {\n",
       "        vertical-align: top;\n",
       "    }\n",
       "\n",
       "    .dataframe thead th {\n",
       "        text-align: right;\n",
       "    }\n",
       "</style>\n",
       "<table border=\"1\" class=\"dataframe\">\n",
       "  <thead>\n",
       "    <tr style=\"text-align: right;\">\n",
       "      <th></th>\n",
       "      <th>source_id</th>\n",
       "      <th>target_id</th>\n",
       "      <th>matching</th>\n",
       "    </tr>\n",
       "  </thead>\n",
       "  <tbody>\n",
       "    <tr>\n",
       "      <th>525</th>\n",
       "      <td>33522</td>\n",
       "      <td>207986293</td>\n",
       "      <td>True</td>\n",
       "    </tr>\n",
       "    <tr>\n",
       "      <th>881</th>\n",
       "      <td>22042</td>\n",
       "      <td>202238311</td>\n",
       "      <td>False</td>\n",
       "    </tr>\n",
       "    <tr>\n",
       "      <th>4666</th>\n",
       "      <td>22042</td>\n",
       "      <td>202238311</td>\n",
       "      <td>True</td>\n",
       "    </tr>\n",
       "    <tr>\n",
       "      <th>4786</th>\n",
       "      <td>33522</td>\n",
       "      <td>207986293</td>\n",
       "      <td>False</td>\n",
       "    </tr>\n",
       "  </tbody>\n",
       "</table>\n",
       "</div>"
      ],
      "text/plain": [
       "      source_id  target_id  matching\n",
       "525       33522  207986293      True\n",
       "881       22042  202238311     False\n",
       "4666      22042  202238311      True\n",
       "4786      33522  207986293     False"
      ]
     },
     "execution_count": 15,
     "metadata": {},
     "output_type": "execute_result"
    }
   ],
   "source": [
    "df_train[df_train.duplicated(['source_id', 'target_id'], keep=False)]"
   ]
  },
  {
   "cell_type": "markdown",
   "id": "7edb59d6",
   "metadata": {},
   "source": [
    "#### Check duplicates in the validation set"
   ]
  },
  {
   "cell_type": "code",
   "execution_count": 16,
   "id": "75610d3d",
   "metadata": {},
   "outputs": [
    {
     "data": {
      "text/html": [
       "<div>\n",
       "<style scoped>\n",
       "    .dataframe tbody tr th:only-of-type {\n",
       "        vertical-align: middle;\n",
       "    }\n",
       "\n",
       "    .dataframe tbody tr th {\n",
       "        vertical-align: top;\n",
       "    }\n",
       "\n",
       "    .dataframe thead th {\n",
       "        text-align: right;\n",
       "    }\n",
       "</style>\n",
       "<table border=\"1\" class=\"dataframe\">\n",
       "  <thead>\n",
       "    <tr style=\"text-align: right;\">\n",
       "      <th></th>\n",
       "      <th>source_id</th>\n",
       "      <th>target_id</th>\n",
       "      <th>matching</th>\n",
       "    </tr>\n",
       "  </thead>\n",
       "  <tbody>\n",
       "    <tr>\n",
       "      <th>54</th>\n",
       "      <td>34130</td>\n",
       "      <td>207900174</td>\n",
       "      <td>False</td>\n",
       "    </tr>\n",
       "    <tr>\n",
       "      <th>780</th>\n",
       "      <td>34130</td>\n",
       "      <td>207900174</td>\n",
       "      <td>True</td>\n",
       "    </tr>\n",
       "  </tbody>\n",
       "</table>\n",
       "</div>"
      ],
      "text/plain": [
       "     source_id  target_id  matching\n",
       "54       34130  207900174     False\n",
       "780      34130  207900174      True"
      ]
     },
     "execution_count": 16,
     "metadata": {},
     "output_type": "execute_result"
    }
   ],
   "source": [
    "df_val[df_val.duplicated(['source_id', 'target_id'], keep=False)]"
   ]
  },
  {
   "cell_type": "markdown",
   "id": "8fc1024f",
   "metadata": {},
   "source": [
    "#### Check duplicates in the test set"
   ]
  },
  {
   "cell_type": "code",
   "execution_count": 17,
   "id": "bca2c538",
   "metadata": {},
   "outputs": [
    {
     "data": {
      "text/html": [
       "<div>\n",
       "<style scoped>\n",
       "    .dataframe tbody tr th:only-of-type {\n",
       "        vertical-align: middle;\n",
       "    }\n",
       "\n",
       "    .dataframe tbody tr th {\n",
       "        vertical-align: top;\n",
       "    }\n",
       "\n",
       "    .dataframe thead th {\n",
       "        text-align: right;\n",
       "    }\n",
       "</style>\n",
       "<table border=\"1\" class=\"dataframe\">\n",
       "  <thead>\n",
       "    <tr style=\"text-align: right;\">\n",
       "      <th></th>\n",
       "      <th>source_id</th>\n",
       "      <th>target_id</th>\n",
       "      <th>matching</th>\n",
       "    </tr>\n",
       "  </thead>\n",
       "  <tbody>\n",
       "  </tbody>\n",
       "</table>\n",
       "</div>"
      ],
      "text/plain": [
       "Empty DataFrame\n",
       "Columns: [source_id, target_id, matching]\n",
       "Index: []"
      ]
     },
     "execution_count": 17,
     "metadata": {},
     "output_type": "execute_result"
    }
   ],
   "source": [
    "df_test[df_test.duplicated(['source_id', 'target_id'], keep=False)]"
   ]
  },
  {
   "cell_type": "markdown",
   "id": "7f8bb51e",
   "metadata": {},
   "source": [
    "* It seems that in both the train and validation set there are groundtruth errors.\n",
    "* In the test set there are no duplicates"
   ]
  },
  {
   "cell_type": "markdown",
   "id": "26df4bc7",
   "metadata": {},
   "source": [
    "#### How would perfect prediction affect f1-score?"
   ]
  },
  {
   "cell_type": "code",
   "execution_count": 18,
   "id": "eef69d5f",
   "metadata": {},
   "outputs": [
    {
     "name": "stdout",
     "output_type": "stream",
     "text": [
      "predicting duplicated pair as a true match:\n",
      "- max precision: 0.9955\n",
      "- max recall: 1.0000\n",
      "- max fscore: 0.9977\n",
      "\n",
      "predicting duplicated pair as no match:\n",
      "- max precision: 1.0000\n",
      "- max recall: 0.9955\n",
      "- max fscore: 0.9977\n"
     ]
    }
   ],
   "source": [
    "# get index of duplicated matches\n",
    "idx = df_val[df_val.duplicated(['source_id', 'target_id'], keep=False)].index\n",
    "\n",
    "# get max performance: use groundtruth to make predictions\n",
    "df_val_p = df_val.copy()\n",
    "\n",
    "# scenario 1: predict duplicated pair as a true match\n",
    "df_val_p.loc[idx, 'matching'] = True\n",
    "p = df_val_p['matching'].values*1\n",
    "y = df_val['matching'].values*1\n",
    "max_prec, max_recall, max_fscore, _ = precision_recall_fscore_support(y, p, average=\"binary\")\n",
    "\n",
    "print(f\"predicting duplicated pair as a true match:\")\n",
    "print(f\"- max precision: {max_prec:.4f}\")\n",
    "print(f\"- max recall: {max_recall:.4f}\")\n",
    "print(f\"- max fscore: {max_fscore:.4f}\")\n",
    "print()\n",
    "\n",
    "# scenario 2: predict duplicated pair as no match\n",
    "df_val_p.loc[idx, 'matching'] = False\n",
    "p = df_val_p['matching'].values*1\n",
    "y = df_val['matching'].values*1\n",
    "max_prec, max_recall, max_fscore, _ = precision_recall_fscore_support(y, p, average=\"binary\")\n",
    "\n",
    "print(f\"predicting duplicated pair as no match:\")\n",
    "print(f\"- max precision: {max_prec:.4f}\")\n",
    "print(f\"- max recall: {max_recall:.4f}\")\n",
    "print(f\"- max fscore: {max_fscore:.4f}\")"
   ]
  },
  {
   "cell_type": "markdown",
   "id": "80a0e243",
   "metadata": {},
   "source": [
    "* Maximum fscore on the validation set is 99.77%\n",
    "* No duplicates on the test-set, so no effect on the public benchmark"
   ]
  },
  {
   "cell_type": "markdown",
   "id": "295c573f",
   "metadata": {},
   "source": [
    "### Categorize errors\n",
    "\n",
    "* Model: Items are a match if they share words with name_degree < 6"
   ]
  },
  {
   "cell_type": "markdown",
   "id": "f77164ea",
   "metadata": {},
   "source": [
    "#### How many of the FN do share a lower case word?"
   ]
  },
  {
   "cell_type": "code",
   "execution_count": 36,
   "id": "d82c33c3",
   "metadata": {},
   "outputs": [
    {
     "name": "stdout",
     "output_type": "stream",
     "text": [
      "CPU times: user 145 ms, sys: 18.2 ms, total: 163 ms\n",
      "Wall time: 238 ms\n"
     ]
    },
    {
     "data": {
      "text/html": [
       "<div>\n",
       "<style scoped>\n",
       "    .dataframe tbody tr th:only-of-type {\n",
       "        vertical-align: middle;\n",
       "    }\n",
       "\n",
       "    .dataframe tbody tr th {\n",
       "        vertical-align: top;\n",
       "    }\n",
       "\n",
       "    .dataframe thead th {\n",
       "        text-align: right;\n",
       "    }\n",
       "</style>\n",
       "<table border=\"1\" class=\"dataframe\">\n",
       "  <thead>\n",
       "    <tr style=\"text-align: right;\">\n",
       "      <th></th>\n",
       "      <th>name_degree_threshold</th>\n",
       "      <th>model</th>\n",
       "      <th>prec</th>\n",
       "      <th>recall</th>\n",
       "      <th>fscore</th>\n",
       "    </tr>\n",
       "  </thead>\n",
       "  <tbody>\n",
       "    <tr>\n",
       "      <th>0</th>\n",
       "      <td>6</td>\n",
       "      <td>shared_word_threshold_6</td>\n",
       "      <td>0.835427</td>\n",
       "      <td>0.69055</td>\n",
       "      <td>0.756111</td>\n",
       "    </tr>\n",
       "  </tbody>\n",
       "</table>\n",
       "</div>"
      ],
      "text/plain": [
       "   name_degree_threshold                    model      prec   recall    fscore\n",
       "0                      6  shared_word_threshold_6  0.835427  0.69055  0.756111"
      ]
     },
     "execution_count": 36,
     "metadata": {},
     "output_type": "execute_result"
    }
   ],
   "source": [
    "%%time\n",
    "\n",
    "results = []\n",
    "\n",
    "name_degree_threshold = 6\n",
    "query = f\"\"\"\n",
    "MATCH p1=(i1:Item)-[:HAS_NAME]->(n1:Name)-[:HAS_WORD]->(w:Word)<-[:HAS_WORD]-(n2:Name)<-[:HAS_NAME]-(i2:Item)\n",
    "WHERE n1 <> n2\n",
    "AND w.name_degree < {name_degree_threshold}\n",
    "RETURN i1.subject_id, i2.subject_id\"\"\"\n",
    "df_p = pd.DataFrame(graph.query(query))\n",
    "\n",
    "if len(df_p) > 0:\n",
    "\n",
    "    df_train_p = df_train.merge(df_p, left_on=['source_id', 'target_id'], right_on=['i1.subject_id', 'i2.subject_id'], how='left')\n",
    "    df_train_p['p'] = df_train_p['i1.subject_id'] > 0\n",
    "\n",
    "    prec, recall, fscore, support = precision_recall_fscore_support(df_train_p['matching'], df_train_p['p'], average='binary')\n",
    "\n",
    "    results.append({'name_degree_threshold': name_degree_threshold, 'model': f'shared_word_threshold_{name_degree_threshold}', 'prec': prec, 'recall': recall, 'fscore': fscore})\n",
    "\n",
    "df_results = pd.DataFrame(results).sort_values('fscore', ascending=False)\n",
    "df_results"
   ]
  },
  {
   "cell_type": "code",
   "execution_count": 37,
   "id": "d0011e3a",
   "metadata": {},
   "outputs": [
    {
     "data": {
      "text/html": [
       "<div>\n",
       "<style scoped>\n",
       "    .dataframe tbody tr th:only-of-type {\n",
       "        vertical-align: middle;\n",
       "    }\n",
       "\n",
       "    .dataframe tbody tr th {\n",
       "        vertical-align: top;\n",
       "    }\n",
       "\n",
       "    .dataframe thead th {\n",
       "        text-align: right;\n",
       "    }\n",
       "</style>\n",
       "<table border=\"1\" class=\"dataframe\">\n",
       "  <thead>\n",
       "    <tr style=\"text-align: right;\">\n",
       "      <th></th>\n",
       "      <th>tn</th>\n",
       "      <th>tp</th>\n",
       "      <th>fn</th>\n",
       "      <th>fp</th>\n",
       "    </tr>\n",
       "  </thead>\n",
       "  <tbody>\n",
       "    <tr>\n",
       "      <th>error_train</th>\n",
       "      <td>4146</td>\n",
       "      <td>665</td>\n",
       "      <td>298</td>\n",
       "      <td>131</td>\n",
       "    </tr>\n",
       "  </tbody>\n",
       "</table>\n",
       "</div>"
      ],
      "text/plain": [
       "               tn   tp   fn   fp\n",
       "error_train  4146  665  298  131"
      ]
     },
     "execution_count": 37,
     "metadata": {},
     "output_type": "execute_result"
    }
   ],
   "source": [
    "cond_y = (df_train_p['matching'] == True)\n",
    "cond_p = (df_train_p['i1.subject_id'] > 0)\n",
    "\n",
    "errors = {\n",
    "    'tp': cond_y & cond_p,\n",
    "    'fp': ~cond_y & cond_p,\n",
    "    'tn': ~cond_y & ~cond_p,\n",
    "    'fn': cond_y & ~cond_p\n",
    "}\n",
    "\n",
    "for error, cond_error in errors.items():\n",
    "    df_train_p.loc[cond_error, 'error_train'] = error\n",
    "    \n",
    "df_train_p['error_train'].value_counts().to_frame().T"
   ]
  },
  {
   "cell_type": "code",
   "execution_count": 34,
   "id": "e3871c73",
   "metadata": {},
   "outputs": [
    {
     "name": "stdout",
     "output_type": "stream",
     "text": [
      "CPU times: user 161 ms, sys: 19.4 ms, total: 181 ms\n",
      "Wall time: 291 ms\n"
     ]
    },
    {
     "data": {
      "text/html": [
       "<div>\n",
       "<style scoped>\n",
       "    .dataframe tbody tr th:only-of-type {\n",
       "        vertical-align: middle;\n",
       "    }\n",
       "\n",
       "    .dataframe tbody tr th {\n",
       "        vertical-align: top;\n",
       "    }\n",
       "\n",
       "    .dataframe thead th {\n",
       "        text-align: right;\n",
       "    }\n",
       "</style>\n",
       "<table border=\"1\" class=\"dataframe\">\n",
       "  <thead>\n",
       "    <tr style=\"text-align: right;\">\n",
       "      <th></th>\n",
       "      <th>name_degree_threshold</th>\n",
       "      <th>model</th>\n",
       "      <th>prec</th>\n",
       "      <th>recall</th>\n",
       "      <th>fscore</th>\n",
       "    </tr>\n",
       "  </thead>\n",
       "  <tbody>\n",
       "    <tr>\n",
       "      <th>0</th>\n",
       "      <td>6</td>\n",
       "      <td>shared_word_threshold_6</td>\n",
       "      <td>0.836562</td>\n",
       "      <td>0.707267</td>\n",
       "      <td>0.7665</td>\n",
       "    </tr>\n",
       "  </tbody>\n",
       "</table>\n",
       "</div>"
      ],
      "text/plain": [
       "   name_degree_threshold                    model      prec    recall  fscore\n",
       "0                      6  shared_word_threshold_6  0.836562  0.707267  0.7665"
      ]
     },
     "execution_count": 34,
     "metadata": {},
     "output_type": "execute_result"
    }
   ],
   "source": [
    "%%time\n",
    "\n",
    "results = []\n",
    "\n",
    "name_degree_threshold = 6\n",
    "query = f\"\"\"\n",
    "MATCH p1=(i1:Item)-[:HAS_NAME]->(n1:Name)-[:HAS_WORD_LOWER]->(w:WordLower)<-[:HAS_WORD_LOWER]-(n2:Name)<-[:HAS_NAME]-(i2:Item)\n",
    "WHERE n1 <> n2\n",
    "AND w.name_degree < {name_degree_threshold}\n",
    "RETURN i1.subject_id, i2.subject_id\"\"\"\n",
    "df_p = pd.DataFrame(graph.query(query))\n",
    "\n",
    "if len(df_p) > 0:\n",
    "\n",
    "    df_train_p = df_train.merge(df_p, left_on=['source_id', 'target_id'], right_on=['i1.subject_id', 'i2.subject_id'], how='left')\n",
    "    df_train_p['p'] = df_train_p['i1.subject_id'] > 0\n",
    "\n",
    "    prec, recall, fscore, support = precision_recall_fscore_support(df_train_p['matching'], df_train_p['p'], average='binary')\n",
    "\n",
    "    results.append({'name_degree_threshold': name_degree_threshold, 'model': f'shared_word_threshold_{name_degree_threshold}', 'prec': prec, 'recall': recall, 'fscore': fscore})\n",
    "\n",
    "df_results = pd.DataFrame(results).sort_values('fscore', ascending=False)\n",
    "df_results"
   ]
  },
  {
   "cell_type": "code",
   "execution_count": 35,
   "id": "cfacae10",
   "metadata": {},
   "outputs": [
    {
     "data": {
      "text/html": [
       "<div>\n",
       "<style scoped>\n",
       "    .dataframe tbody tr th:only-of-type {\n",
       "        vertical-align: middle;\n",
       "    }\n",
       "\n",
       "    .dataframe tbody tr th {\n",
       "        vertical-align: top;\n",
       "    }\n",
       "\n",
       "    .dataframe thead th {\n",
       "        text-align: right;\n",
       "    }\n",
       "</style>\n",
       "<table border=\"1\" class=\"dataframe\">\n",
       "  <thead>\n",
       "    <tr style=\"text-align: right;\">\n",
       "      <th></th>\n",
       "      <th>tn</th>\n",
       "      <th>tp</th>\n",
       "      <th>fn</th>\n",
       "      <th>fp</th>\n",
       "    </tr>\n",
       "  </thead>\n",
       "  <tbody>\n",
       "    <tr>\n",
       "      <th>error_train</th>\n",
       "      <td>4142</td>\n",
       "      <td>691</td>\n",
       "      <td>286</td>\n",
       "      <td>135</td>\n",
       "    </tr>\n",
       "  </tbody>\n",
       "</table>\n",
       "</div>"
      ],
      "text/plain": [
       "               tn   tp   fn   fp\n",
       "error_train  4142  691  286  135"
      ]
     },
     "execution_count": 35,
     "metadata": {},
     "output_type": "execute_result"
    }
   ],
   "source": [
    "cond_y = (df_train_p['matching'] == True)\n",
    "cond_p = (df_train_p['i1.subject_id'] > 0)\n",
    "\n",
    "errors = {\n",
    "    'tp': cond_y & cond_p,\n",
    "    'fp': ~cond_y & cond_p,\n",
    "    'tn': ~cond_y & ~cond_p,\n",
    "    'fn': cond_y & ~cond_p\n",
    "}\n",
    "\n",
    "for error, cond_error in errors.items():\n",
    "    df_train_p.loc[cond_error, 'error_train'] = error\n",
    "    \n",
    "df_train_p['error_train'].value_counts().to_frame().T"
   ]
  },
  {
   "cell_type": "code",
   "execution_count": null,
   "id": "bb5ddc12",
   "metadata": {},
   "outputs": [],
   "source": []
  }
 ],
 "metadata": {
  "kernelspec": {
   "display_name": "Python 3 (ipykernel)",
   "language": "python",
   "name": "python3"
  },
  "language_info": {
   "codemirror_mode": {
    "name": "ipython",
    "version": 3
   },
   "file_extension": ".py",
   "mimetype": "text/x-python",
   "name": "python",
   "nbconvert_exporter": "python",
   "pygments_lexer": "ipython3",
   "version": "3.9.12"
  }
 },
 "nbformat": 4,
 "nbformat_minor": 5
}
