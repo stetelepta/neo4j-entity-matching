{
 "cells": [
  {
   "cell_type": "markdown",
   "id": "8e7e7b80-d626-4094-86e9-c62bca2c997c",
   "metadata": {},
   "source": [
    "# Entity Matching using Neo4j - Crucial Differences\n",
    "\n",
    "_Salomon Tetelepta, May 8th 2024_\n",
    "* Explore how to model crucial diffences\n",
    "* Match: What you share is __specific__, what differs is __common__\n",
    "    * _ie. same model identifier, differs by a common separator_\n",
    "* No-Match: What you share is __common__, what differs is __specific__\n",
    "    * _ie. same manufacturer, different model identifier_\n",
    "* No-Match: What you share is __specific__, what differs is a __crucial difference__\n",
    "    * _ie. numerical difference, v12 vs v13_"
   ]
  },
  {
   "cell_type": "markdown",
   "id": "98ce18da",
   "metadata": {},
   "source": [
    "<img src=\"../images/8-crucial-differences-principle.jpg\" width=\"600\">"
   ]
  },
  {
   "cell_type": "markdown",
   "id": "c8b93c37-f0a9-46c8-82e9-dd7ff1f6f2f0",
   "metadata": {},
   "source": [
    "### Install dependencies"
   ]
  },
  {
   "cell_type": "code",
   "execution_count": 2,
   "id": "722da72e-0aaf-4023-bdc4-22853d1c9cb8",
   "metadata": {
    "tags": []
   },
   "outputs": [
    {
     "name": "stdout",
     "output_type": "stream",
     "text": [
      "neo4j: 5.17.0\n",
      "\n"
     ]
    }
   ],
   "source": [
    "!pip install neo4j python-dotenv langchain-community --quiet\n",
    "\n",
    "%load_ext watermark\n",
    "%watermark -p neo4j"
   ]
  },
  {
   "cell_type": "markdown",
   "id": "9f718c68-90df-407e-87e3-8235c2f06180",
   "metadata": {},
   "source": [
    "### Imports"
   ]
  },
  {
   "cell_type": "code",
   "execution_count": 3,
   "id": "b3a5300d-35fe-4929-b7a8-ded5d5d64a1c",
   "metadata": {
    "tags": []
   },
   "outputs": [],
   "source": [
    "from dotenv import load_dotenv, find_dotenv, dotenv_values\n",
    "from langchain_community.graphs import Neo4jGraph\n",
    "from pathlib import Path\n",
    "from sklearn.manifold import TSNE\n",
    "from sklearn.metrics import PrecisionRecallDisplay\n",
    "from sklearn.metrics import accuracy_score, classification_report, confusion_matrix, f1_score\n",
    "from sklearn.metrics import precision_recall_fscore_support\n",
    "from sklearn.metrics.pairwise import cosine_similarity\n",
    "from sklearn.model_selection import train_test_split\n",
    "from sklearn.tree import DecisionTreeClassifier\n",
    "from wordfreq import lossy_tokenize, tokenize, word_frequency\n",
    "\n",
    "import json\n",
    "import matplotlib.pyplot as plt\n",
    "import neo4j\n",
    "import numpy as np\n",
    "\n",
    "import os\n",
    "import pandas as pd\n",
    "import pickle\n",
    "import re"
   ]
  },
  {
   "cell_type": "markdown",
   "id": "9836fbd4-fa26-49c7-b758-d01d2fc2e97c",
   "metadata": {},
   "source": [
    "### Settings"
   ]
  },
  {
   "cell_type": "code",
   "execution_count": 4,
   "id": "41d7b49c-ce17-42d0-85cc-fe21f86a8318",
   "metadata": {
    "tags": []
   },
   "outputs": [],
   "source": [
    "# path settings\n",
    "project_path = Path(os.getcwd()).parent\n",
    "data_path = project_path / \"data\"\n",
    "output_path = project_path / \"output\"\n",
    "\n",
    "database = \"abt-buy\"\n",
    "\n",
    "# load env settings\n",
    "load_dotenv(project_path / \".env\")\n",
    "\n",
    "# reproducability\n",
    "np.random.seed(42)"
   ]
  },
  {
   "cell_type": "markdown",
   "id": "a351bb5f",
   "metadata": {},
   "source": [
    "### Helper functions"
   ]
  },
  {
   "cell_type": "code",
   "execution_count": 119,
   "id": "850afb30",
   "metadata": {},
   "outputs": [],
   "source": [
    "def longest_common_substring(str1, str2):\n",
    "    # source gpt 3.5\n",
    "    \n",
    "    m = len(str1)\n",
    "    n = len(str2)\n",
    "    \n",
    "    # Create a table to store lengths of longest common suffixes\n",
    "    # of substrings. Initialize the table to zeros.\n",
    "    lcs_table = [[0] * (n + 1) for _ in range(m + 1)]\n",
    "    \n",
    "    # Variables to store the length of the longest common substring\n",
    "    # and the ending position of the longest common substring in str1.\n",
    "    longest_length = 0\n",
    "    ending_position = 0\n",
    "    \n",
    "    # Fill the lcs_table in bottom-up manner\n",
    "    for i in range(1, m + 1):\n",
    "        for j in range(1, n + 1):\n",
    "            if str1[i - 1] == str2[j - 1]:\n",
    "                lcs_table[i][j] = lcs_table[i - 1][j - 1] + 1\n",
    "                if lcs_table[i][j] > longest_length:\n",
    "                    longest_length = lcs_table[i][j]\n",
    "                    ending_position = i\n",
    "            else:\n",
    "                lcs_table[i][j] = 0\n",
    "    \n",
    "    # Extract the longest common substring from str1\n",
    "    longest_substring = str1[ending_position - longest_length:ending_position]\n",
    "    \n",
    "    return longest_substring\n",
    "\n",
    "def get_differences_and_overlap_recursive(str1, str2, sep):\n",
    "    # source: gpt 3.5\n",
    "    \n",
    "    # Find the longest common substring\n",
    "    overlap = longest_common_substring(str1, str2)\n",
    "    \n",
    "    # If there is an overlap, recursively find differences and overlap again\n",
    "    if overlap:\n",
    "        # Find the indices of the overlap in both strings\n",
    "        overlap_index1 = str1.find(overlap)\n",
    "        overlap_index2 = str2.find(overlap)\n",
    "        \n",
    "        # Split the strings at the overlap indices\n",
    "        str1_before_overlap = str1[:overlap_index1]\n",
    "        str1_after_overlap = str1[overlap_index1 + len(overlap):]\n",
    "        \n",
    "        str2_before_overlap = str2[:overlap_index2]\n",
    "        str2_after_overlap = str2[overlap_index2 + len(overlap):]\n",
    "        \n",
    "        # Recursively find differences and overlap for the substrings\n",
    "        differences_before = get_differences_and_overlap_recursive(str1_before_overlap, str2_before_overlap, sep=sep)\n",
    "        differences_after = get_differences_and_overlap_recursive(str1_after_overlap, str2_after_overlap, sep=sep)\n",
    "        \n",
    "        # Merge the differences and overlaps\n",
    "        differences = differences_before[\"differences\"] + differences_after[\"differences\"]\n",
    "        overlap = overlap + \"<SEP!>\" + differences_before[\"overlap_str\"] + differences_after[\"overlap_str\"]\n",
    "    else:\n",
    "        # If there is no overlap, set the differences to the input strings\n",
    "        differences = [str1, str2]\n",
    "    \n",
    "    return {\n",
    "        \"differences\": [d for d in differences if d != \"\"],\n",
    "        \"overlap_str\": overlap,\n",
    "    }\n",
    "\n",
    "\n",
    "def get_differences_and_overlap(str1, str2, sep=\"<SEP!>\"):\n",
    "    # slight adaptation to gtp 3.5 code\n",
    "    \n",
    "    result = get_differences_and_overlap_recursive(str1, str2, sep=sep)\n",
    "    # post-processing to get overlap as list\n",
    "    result['overlap'] = [o for o in result['overlap_str'].split(sep) if o != \"\"]\n",
    "    del result['overlap_str']\n",
    "    return result\n",
    "\n",
    "# # Example usage\n",
    "# str1 = \"ps-lx350h\"\n",
    "# str2 = \"pslx350h\"\n",
    "# result = get_differences_and_overlap(str1, str2)\n",
    "\n",
    "# print(\"Difference:\", result[\"differences\"])\n",
    "# print(\"Overlap:\", result[\"overlap\"])"
   ]
  },
  {
   "cell_type": "code",
   "execution_count": 166,
   "id": "1e720d0b",
   "metadata": {},
   "outputs": [],
   "source": [
    "def has_numbers(s):\n",
    "    return bool(re.search(r'\\d', s))"
   ]
  },
  {
   "cell_type": "markdown",
   "id": "8dfbe0a7-229a-47b5-8f9c-88bb567b0889",
   "metadata": {},
   "source": [
    "### 1. Load Data"
   ]
  },
  {
   "cell_type": "code",
   "execution_count": 120,
   "id": "28d3c50b",
   "metadata": {
    "tags": []
   },
   "outputs": [
    {
     "data": {
      "text/plain": [
       "['2_buy.csv', '1_abt.csv']"
      ]
     },
     "execution_count": 120,
     "metadata": {},
     "output_type": "execute_result"
    }
   ],
   "source": [
    "os.listdir(data_path / 'abt-buy' / 'record_descriptions')"
   ]
  },
  {
   "cell_type": "code",
   "execution_count": 121,
   "id": "4237c131-bcea-41b1-8664-881d6315ebf2",
   "metadata": {
    "tags": []
   },
   "outputs": [
    {
     "data": {
      "text/html": [
       "<div>\n",
       "<style scoped>\n",
       "    .dataframe tbody tr th:only-of-type {\n",
       "        vertical-align: middle;\n",
       "    }\n",
       "\n",
       "    .dataframe tbody tr th {\n",
       "        vertical-align: top;\n",
       "    }\n",
       "\n",
       "    .dataframe thead th {\n",
       "        text-align: right;\n",
       "    }\n",
       "</style>\n",
       "<table border=\"1\" class=\"dataframe\">\n",
       "  <thead>\n",
       "    <tr style=\"text-align: right;\">\n",
       "      <th></th>\n",
       "      <th>subject_id_x</th>\n",
       "      <th>name_x</th>\n",
       "      <th>description_x</th>\n",
       "      <th>manufacturer</th>\n",
       "      <th>price_x</th>\n",
       "      <th>subject_id_y</th>\n",
       "      <th>name_y</th>\n",
       "      <th>description_y</th>\n",
       "      <th>price_y</th>\n",
       "      <th>source_id</th>\n",
       "      <th>target_id</th>\n",
       "      <th>matching</th>\n",
       "    </tr>\n",
       "  </thead>\n",
       "  <tbody>\n",
       "    <tr>\n",
       "      <th>0</th>\n",
       "      <td>207390654</td>\n",
       "      <td>Sony Handycam HDR-SR10 High Definition Digital...</td>\n",
       "      <td>16:9 - 2.7' Hybrid LCD</td>\n",
       "      <td>Sony</td>\n",
       "      <td>549.0</td>\n",
       "      <td>33161</td>\n",
       "      <td>Sony High Definition HDV Handycam Camcorder - ...</td>\n",
       "      <td>Sony High Definition HDV Handycam Camcorder - ...</td>\n",
       "      <td>NaN</td>\n",
       "      <td>33161</td>\n",
       "      <td>207390654</td>\n",
       "      <td>False</td>\n",
       "    </tr>\n",
       "    <tr>\n",
       "      <th>1</th>\n",
       "      <td>208085180</td>\n",
       "      <td>Pioneer DEH-2000MP Car Audio Player</td>\n",
       "      <td>CD-RW - CD-Text, MP3, WMA, WAV - LCD - 4 - 200...</td>\n",
       "      <td>Pioneer</td>\n",
       "      <td>84.0</td>\n",
       "      <td>36258</td>\n",
       "      <td>D-Link Broadband Cable Modem - DCM202</td>\n",
       "      <td>D-Link Broadband Cable Modem - DCM202/ DOCSIS ...</td>\n",
       "      <td>79.00</td>\n",
       "      <td>36258</td>\n",
       "      <td>208085180</td>\n",
       "      <td>False</td>\n",
       "    </tr>\n",
       "    <tr>\n",
       "      <th>2</th>\n",
       "      <td>90125786</td>\n",
       "      <td>Sanus Wall/Ceiling Speaker Mount - WMS3S SILVER</td>\n",
       "      <td>Plastic - 8 lb</td>\n",
       "      <td>Sanus</td>\n",
       "      <td>NaN</td>\n",
       "      <td>17417</td>\n",
       "      <td>Sanus 13' - 30' VisionMount Flat Panel TV Silv...</td>\n",
       "      <td>Sanus 13' - 30' VisionMount Flat Panel TV Silv...</td>\n",
       "      <td>39.99</td>\n",
       "      <td>17417</td>\n",
       "      <td>90125786</td>\n",
       "      <td>False</td>\n",
       "    </tr>\n",
       "  </tbody>\n",
       "</table>\n",
       "</div>"
      ],
      "text/plain": [
       "   subject_id_x                                             name_x  \\\n",
       "0     207390654  Sony Handycam HDR-SR10 High Definition Digital...   \n",
       "1     208085180                Pioneer DEH-2000MP Car Audio Player   \n",
       "2      90125786    Sanus Wall/Ceiling Speaker Mount - WMS3S SILVER   \n",
       "\n",
       "                                       description_x manufacturer  price_x  \\\n",
       "0                             16:9 - 2.7' Hybrid LCD         Sony    549.0   \n",
       "1  CD-RW - CD-Text, MP3, WMA, WAV - LCD - 4 - 200...      Pioneer     84.0   \n",
       "2                                     Plastic - 8 lb        Sanus      NaN   \n",
       "\n",
       "   subject_id_y                                             name_y  \\\n",
       "0         33161  Sony High Definition HDV Handycam Camcorder - ...   \n",
       "1         36258              D-Link Broadband Cable Modem - DCM202   \n",
       "2         17417  Sanus 13' - 30' VisionMount Flat Panel TV Silv...   \n",
       "\n",
       "                                       description_y  price_y  source_id  \\\n",
       "0  Sony High Definition HDV Handycam Camcorder - ...      NaN      33161   \n",
       "1  D-Link Broadband Cable Modem - DCM202/ DOCSIS ...    79.00      36258   \n",
       "2  Sanus 13' - 30' VisionMount Flat Panel TV Silv...    39.99      17417   \n",
       "\n",
       "   target_id  matching  \n",
       "0  207390654     False  \n",
       "1  208085180     False  \n",
       "2   90125786     False  "
      ]
     },
     "execution_count": 121,
     "metadata": {},
     "output_type": "execute_result"
    }
   ],
   "source": [
    "# abt and buy records\n",
    "df_abt = pd.read_csv(data_path / 'abt-buy' / 'record_descriptions' / '1_abt.csv', encoding='unicode_escape')\n",
    "df_buy = pd.read_csv(data_path / 'abt-buy' / 'record_descriptions' / '2_buy.csv')\n",
    "\n",
    "# matches - train and validation set\n",
    "df_train = pd.read_csv(data_path / 'abt-buy' / 'gs_train.csv')\n",
    "df_val = pd.read_csv(data_path / 'abt-buy' / 'gs_val.csv')\n",
    "df_test = pd.read_csv(data_path / 'abt-buy' / 'gs_test.csv')\n",
    "\n",
    "# merge records with matches\n",
    "df_abt_merged = df_abt.merge(df_train, left_on='subject_id', right_on='source_id', how='right')\n",
    "df_train_merged = df_buy.merge(df_abt_merged, left_on='subject_id', right_on='target_id', how='right')\n",
    "\n",
    "df_train_merged.head(3)"
   ]
  },
  {
   "cell_type": "markdown",
   "id": "124aa4ad-667e-4c84-a38c-44c27a3e7fbe",
   "metadata": {},
   "source": [
    "### Connect to Neo4j"
   ]
  },
  {
   "cell_type": "code",
   "execution_count": 122,
   "id": "a70a5c39-9f21-49b4-905e-1385499f93e2",
   "metadata": {
    "tags": []
   },
   "outputs": [
    {
     "name": "stdout",
     "output_type": "stream",
     "text": [
      "database: abt-buy\n"
     ]
    },
    {
     "data": {
      "text/plain": [
       "[{'count(n)': 612119}]"
      ]
     },
     "execution_count": 122,
     "metadata": {},
     "output_type": "execute_result"
    }
   ],
   "source": [
    "# connect to Neo4j\n",
    "graph = Neo4jGraph(\n",
    "    url=os.getenv('NEO4J_URL'),\n",
    "    username=os.getenv('NEO4J_USER'),\n",
    "    password=os.getenv('NEO4J_PASS')\n",
    ")\n",
    "\n",
    "# create database if does not exist\n",
    "graph._database = \"system\"\n",
    "query = f\"CREATE DATABASE `{database}` IF NOT EXISTS\"\n",
    "graph.query(query)\n",
    "\n",
    "# change to target database\n",
    "graph._database = database\n",
    "print(\"database:\", graph._database)\n",
    "\n",
    "# check nr nodes in the graph\n",
    "graph.query(\"MATCH (n) RETURN count(n)\")"
   ]
  },
  {
   "cell_type": "markdown",
   "id": "63d44fad",
   "metadata": {},
   "source": [
    "### Determine overlap and difference for words sharing rare ngrams\n",
    "\n",
    "Examples:\n",
    "* `kx-tga820b` vs `kxtga820b` -> overlap: [`kx`, `tga820b`], differences: [`-`]\t\n",
    "* `rxv663bl` vs `rxv663bk` -> overlap: [`rxv663b`], differences: [`l`, `k`]"
   ]
  },
  {
   "cell_type": "markdown",
   "id": "3cf01824",
   "metadata": {},
   "source": [
    "#### Get pairs that share large ngrams - get overlap and differences"
   ]
  },
  {
   "cell_type": "code",
   "execution_count": 102,
   "id": "be79e05c",
   "metadata": {
    "scrolled": true
   },
   "outputs": [
    {
     "name": "stdout",
     "output_type": "stream",
     "text": [
      "CPU times: user 90.1 ms, sys: 4.99 ms, total: 95.1 ms\n",
      "Wall time: 185 ms\n"
     ]
    }
   ],
   "source": [
    "%%time\n",
    "# Wall time: 1.91 s\n",
    "\n",
    "query = \"MATCH p=(i1:Item)-[:HAS_NAME]->(n1:Name)-[:HAS_WORD_LOWER]->(w1:WordLower)-[:HAS_6GRAM]->(:NoVocab)<-[:HAS_6GRAM]-(w2:WordLower)<-[:HAS_WORD_LOWER]-(:Name)<-[:HAS_NAME]-(i2:Item)-[:NO_MATCH]-(i1) RETURN DISTINCT w1.value AS w1, w2.value AS w2, i1\"\n",
    "results = graph.query(query)\n",
    "\n",
    "df_results = pd.DataFrame(results)\n",
    "df_diff_overlap = pd.DataFrame(results).apply(lambda x: pd.Series(get_differences_and_overlap(x[0], x[1])), axis=1)\n",
    "df_results_no_match = pd.concat([df_results, df_diff_overlap], axis=1)\n",
    "df_results_no_match['is_match'] = 0"
   ]
  },
  {
   "cell_type": "code",
   "execution_count": 103,
   "id": "db2074a4",
   "metadata": {},
   "outputs": [
    {
     "name": "stdout",
     "output_type": "stream",
     "text": [
      "CPU times: user 108 ms, sys: 5.39 ms, total: 113 ms\n",
      "Wall time: 138 ms\n"
     ]
    }
   ],
   "source": [
    "%%time\n",
    "# Wall time: 1.91 s\n",
    "\n",
    "query = \"MATCH p=(i1:Item)-[:HAS_NAME]->(n1:Name)-[:HAS_WORD_LOWER]->(w1:WordLower)-[:HAS_6GRAM]->(:NoVocab)<-[:HAS_6GRAM]-(w2:WordLower)<-[:HAS_WORD_LOWER]-(:Name)<-[:HAS_NAME]-(i2:Item)-[:IS_MATCH]-(i1) RETURN DISTINCT w1.value AS w1, w2.value AS w2, i1\"\n",
    "results = graph.query(query)\n",
    "\n",
    "df_results = pd.DataFrame(results)\n",
    "df_diff_overlap = pd.DataFrame(results).apply(lambda x: pd.Series(get_differences_and_overlap(x[0], x[1])), axis=1)\n",
    "df_results_is_match = pd.concat([df_results, df_diff_overlap], axis=1)\n",
    "df_results_is_match['is_match'] = 1"
   ]
  },
  {
   "cell_type": "code",
   "execution_count": 124,
   "id": "26ff4cda",
   "metadata": {},
   "outputs": [
    {
     "data": {
      "text/html": [
       "<div>\n",
       "<style scoped>\n",
       "    .dataframe tbody tr th:only-of-type {\n",
       "        vertical-align: middle;\n",
       "    }\n",
       "\n",
       "    .dataframe tbody tr th {\n",
       "        vertical-align: top;\n",
       "    }\n",
       "\n",
       "    .dataframe thead th {\n",
       "        text-align: right;\n",
       "    }\n",
       "</style>\n",
       "<table border=\"1\" class=\"dataframe\">\n",
       "  <thead>\n",
       "    <tr style=\"text-align: right;\">\n",
       "      <th></th>\n",
       "      <th>w1</th>\n",
       "      <th>w2</th>\n",
       "      <th>i1</th>\n",
       "      <th>differences</th>\n",
       "      <th>overlap</th>\n",
       "      <th>is_match</th>\n",
       "    </tr>\n",
       "  </thead>\n",
       "  <tbody>\n",
       "    <tr>\n",
       "      <th>0</th>\n",
       "      <td>kx-tga820b</td>\n",
       "      <td>kxtga820b</td>\n",
       "      <td>{'subject_id': 206179521, 'source': 'buy'}</td>\n",
       "      <td>[-]</td>\n",
       "      <td>[tga820b, kx]</td>\n",
       "      <td>1</td>\n",
       "    </tr>\n",
       "    <tr>\n",
       "      <th>1</th>\n",
       "      <td>kxtga820b</td>\n",
       "      <td>kx-tga820b</td>\n",
       "      <td>{'subject_id': 32986, 'source': 'abt'}</td>\n",
       "      <td>[-]</td>\n",
       "      <td>[tga820b, kx]</td>\n",
       "      <td>1</td>\n",
       "    </tr>\n",
       "    <tr>\n",
       "      <th>2</th>\n",
       "      <td>rxv663bl</td>\n",
       "      <td>rxv663bk</td>\n",
       "      <td>{'subject_id': 207667994, 'source': 'buy'}</td>\n",
       "      <td>[l, k]</td>\n",
       "      <td>[rxv663b]</td>\n",
       "      <td>1</td>\n",
       "    </tr>\n",
       "    <tr>\n",
       "      <th>3</th>\n",
       "      <td>rxv663bk</td>\n",
       "      <td>rxv663bl</td>\n",
       "      <td>{'subject_id': 33452, 'source': 'abt'}</td>\n",
       "      <td>[k, l]</td>\n",
       "      <td>[rxv663b]</td>\n",
       "      <td>1</td>\n",
       "    </tr>\n",
       "    <tr>\n",
       "      <th>4</th>\n",
       "      <td>th-46pz80u</td>\n",
       "      <td>th46pz80u</td>\n",
       "      <td>{'subject_id': 207388759, 'source': 'buy'}</td>\n",
       "      <td>[-]</td>\n",
       "      <td>[46pz80u, th]</td>\n",
       "      <td>1</td>\n",
       "    </tr>\n",
       "    <tr>\n",
       "      <th>...</th>\n",
       "      <td>...</td>\n",
       "      <td>...</td>\n",
       "      <td>...</td>\n",
       "      <td>...</td>\n",
       "      <td>...</td>\n",
       "      <td>...</td>\n",
       "    </tr>\n",
       "    <tr>\n",
       "      <th>333</th>\n",
       "      <td>28-135mm</td>\n",
       "      <td>w/28-135mm</td>\n",
       "      <td>{'subject_id': 30962, 'source': 'abt'}</td>\n",
       "      <td>[w/]</td>\n",
       "      <td>[28-135mm]</td>\n",
       "      <td>0</td>\n",
       "    </tr>\n",
       "    <tr>\n",
       "      <th>334</th>\n",
       "      <td>motorokr</td>\n",
       "      <td>motorola</td>\n",
       "      <td>{'subject_id': 33804, 'source': 'abt'}</td>\n",
       "      <td>[kr, la]</td>\n",
       "      <td>[motoro]</td>\n",
       "      <td>0</td>\n",
       "    </tr>\n",
       "    <tr>\n",
       "      <th>335</th>\n",
       "      <td>icfc1ipmk2wht</td>\n",
       "      <td>icfc1ipmk2blk</td>\n",
       "      <td>{'subject_id': 34638, 'source': 'abt'}</td>\n",
       "      <td>[wht, blk]</td>\n",
       "      <td>[icfc1ipmk2]</td>\n",
       "      <td>0</td>\n",
       "    </tr>\n",
       "    <tr>\n",
       "      <th>336</th>\n",
       "      <td>icfc1ipmk2blk</td>\n",
       "      <td>icfc1ipmk2whi</td>\n",
       "      <td>{'subject_id': 34637, 'source': 'abt'}</td>\n",
       "      <td>[blk, whi]</td>\n",
       "      <td>[icfc1ipmk2]</td>\n",
       "      <td>0</td>\n",
       "    </tr>\n",
       "    <tr>\n",
       "      <th>337</th>\n",
       "      <td>1946b002</td>\n",
       "      <td>2946b004</td>\n",
       "      <td>{'subject_id': 29029, 'source': 'abt'}</td>\n",
       "      <td>[1, 2, 2, 4]</td>\n",
       "      <td>[946b00]</td>\n",
       "      <td>0</td>\n",
       "    </tr>\n",
       "  </tbody>\n",
       "</table>\n",
       "<p>849 rows × 6 columns</p>\n",
       "</div>"
      ],
      "text/plain": [
       "                w1             w2                                          i1  \\\n",
       "0       kx-tga820b      kxtga820b  {'subject_id': 206179521, 'source': 'buy'}   \n",
       "1        kxtga820b     kx-tga820b      {'subject_id': 32986, 'source': 'abt'}   \n",
       "2         rxv663bl       rxv663bk  {'subject_id': 207667994, 'source': 'buy'}   \n",
       "3         rxv663bk       rxv663bl      {'subject_id': 33452, 'source': 'abt'}   \n",
       "4       th-46pz80u      th46pz80u  {'subject_id': 207388759, 'source': 'buy'}   \n",
       "..             ...            ...                                         ...   \n",
       "333       28-135mm     w/28-135mm      {'subject_id': 30962, 'source': 'abt'}   \n",
       "334       motorokr       motorola      {'subject_id': 33804, 'source': 'abt'}   \n",
       "335  icfc1ipmk2wht  icfc1ipmk2blk      {'subject_id': 34638, 'source': 'abt'}   \n",
       "336  icfc1ipmk2blk  icfc1ipmk2whi      {'subject_id': 34637, 'source': 'abt'}   \n",
       "337       1946b002       2946b004      {'subject_id': 29029, 'source': 'abt'}   \n",
       "\n",
       "      differences        overlap  is_match  \n",
       "0             [-]  [tga820b, kx]         1  \n",
       "1             [-]  [tga820b, kx]         1  \n",
       "2          [l, k]      [rxv663b]         1  \n",
       "3          [k, l]      [rxv663b]         1  \n",
       "4             [-]  [46pz80u, th]         1  \n",
       "..            ...            ...       ...  \n",
       "333          [w/]     [28-135mm]         0  \n",
       "334      [kr, la]       [motoro]         0  \n",
       "335    [wht, blk]   [icfc1ipmk2]         0  \n",
       "336    [blk, whi]   [icfc1ipmk2]         0  \n",
       "337  [1, 2, 2, 4]       [946b00]         0  \n",
       "\n",
       "[849 rows x 6 columns]"
      ]
     },
     "execution_count": 124,
     "metadata": {},
     "output_type": "execute_result"
    }
   ],
   "source": [
    "df_results = pd.concat([df_results_is_match, df_results_no_match], axis=0)\n",
    "df_results"
   ]
  },
  {
   "cell_type": "markdown",
   "id": "2ade7bec",
   "metadata": {},
   "source": [
    "#### Probability of match given a difference string"
   ]
  },
  {
   "cell_type": "code",
   "execution_count": 200,
   "id": "b3ea5032",
   "metadata": {},
   "outputs": [],
   "source": [
    "df_results['differences_str'] = df_results['differences'].apply(\"\".join)\n",
    "cond_match = df_results.is_match == 1\n",
    "df_diff_is_match_vc = df_results[cond_match]['differences_str'].value_counts().to_frame()\n",
    "df_diff_no_match_vc = df_results[~cond_match]['differences_str'].value_counts().to_frame()"
   ]
  },
  {
   "cell_type": "code",
   "execution_count": 203,
   "id": "8f37d559",
   "metadata": {},
   "outputs": [
    {
     "data": {
      "text/html": [
       "<div>\n",
       "<style scoped>\n",
       "    .dataframe tbody tr th:only-of-type {\n",
       "        vertical-align: middle;\n",
       "    }\n",
       "\n",
       "    .dataframe tbody tr th {\n",
       "        vertical-align: top;\n",
       "    }\n",
       "\n",
       "    .dataframe thead th {\n",
       "        text-align: right;\n",
       "    }\n",
       "</style>\n",
       "<table border=\"1\" class=\"dataframe\">\n",
       "  <thead>\n",
       "    <tr style=\"text-align: right;\">\n",
       "      <th></th>\n",
       "      <th>value</th>\n",
       "      <th>is_match</th>\n",
       "      <th>no_match</th>\n",
       "      <th>sum</th>\n",
       "      <th>p_is_match</th>\n",
       "      <th>p_no_match</th>\n",
       "    </tr>\n",
       "  </thead>\n",
       "  <tbody>\n",
       "    <tr>\n",
       "      <th>0</th>\n",
       "      <td>-</td>\n",
       "      <td>180.0</td>\n",
       "      <td>2.0</td>\n",
       "      <td>182.0</td>\n",
       "      <td>0.989011</td>\n",
       "      <td>0.010989</td>\n",
       "    </tr>\n",
       "    <tr>\n",
       "      <th>1</th>\n",
       "      <td>/</td>\n",
       "      <td>66.0</td>\n",
       "      <td>0.0</td>\n",
       "      <td>66.0</td>\n",
       "      <td>1.000000</td>\n",
       "      <td>0.000000</td>\n",
       "    </tr>\n",
       "    <tr>\n",
       "      <th>2</th>\n",
       "      <td>h</td>\n",
       "      <td>24.0</td>\n",
       "      <td>2.0</td>\n",
       "      <td>26.0</td>\n",
       "      <td>0.923077</td>\n",
       "      <td>0.076923</td>\n",
       "    </tr>\n",
       "    <tr>\n",
       "      <th>3</th>\n",
       "      <td>s</td>\n",
       "      <td>20.0</td>\n",
       "      <td>11.0</td>\n",
       "      <td>31.0</td>\n",
       "      <td>0.645161</td>\n",
       "      <td>0.354839</td>\n",
       "    </tr>\n",
       "    <tr>\n",
       "      <th>4</th>\n",
       "      <td>na</td>\n",
       "      <td>10.0</td>\n",
       "      <td>0.0</td>\n",
       "      <td>10.0</td>\n",
       "      <td>1.000000</td>\n",
       "      <td>0.000000</td>\n",
       "    </tr>\n",
       "    <tr>\n",
       "      <th>...</th>\n",
       "      <td>...</td>\n",
       "      <td>...</td>\n",
       "      <td>...</td>\n",
       "      <td>...</td>\n",
       "      <td>...</td>\n",
       "      <td>...</td>\n",
       "    </tr>\n",
       "    <tr>\n",
       "      <th>272</th>\n",
       "      <td>823979</td>\n",
       "      <td>0.0</td>\n",
       "      <td>1.0</td>\n",
       "      <td>1.0</td>\n",
       "      <td>0.000000</td>\n",
       "      <td>1.000000</td>\n",
       "    </tr>\n",
       "    <tr>\n",
       "      <th>273</th>\n",
       "      <td>8261</td>\n",
       "      <td>0.0</td>\n",
       "      <td>1.0</td>\n",
       "      <td>1.0</td>\n",
       "      <td>0.000000</td>\n",
       "      <td>1.000000</td>\n",
       "    </tr>\n",
       "    <tr>\n",
       "      <th>274</th>\n",
       "      <td>8263bs</td>\n",
       "      <td>0.0</td>\n",
       "      <td>1.0</td>\n",
       "      <td>1.0</td>\n",
       "      <td>0.000000</td>\n",
       "      <td>1.000000</td>\n",
       "    </tr>\n",
       "    <tr>\n",
       "      <th>275</th>\n",
       "      <td>8267</td>\n",
       "      <td>0.0</td>\n",
       "      <td>1.0</td>\n",
       "      <td>1.0</td>\n",
       "      <td>0.000000</td>\n",
       "      <td>1.000000</td>\n",
       "    </tr>\n",
       "    <tr>\n",
       "      <th>276</th>\n",
       "      <td>8296</td>\n",
       "      <td>0.0</td>\n",
       "      <td>1.0</td>\n",
       "      <td>1.0</td>\n",
       "      <td>0.000000</td>\n",
       "      <td>1.000000</td>\n",
       "    </tr>\n",
       "  </tbody>\n",
       "</table>\n",
       "<p>277 rows × 6 columns</p>\n",
       "</div>"
      ],
      "text/plain": [
       "      value  is_match  no_match    sum  p_is_match  p_no_match\n",
       "0         -     180.0       2.0  182.0    0.989011    0.010989\n",
       "1         /      66.0       0.0   66.0    1.000000    0.000000\n",
       "2         h      24.0       2.0   26.0    0.923077    0.076923\n",
       "3         s      20.0      11.0   31.0    0.645161    0.354839\n",
       "4        na      10.0       0.0   10.0    1.000000    0.000000\n",
       "..      ...       ...       ...    ...         ...         ...\n",
       "272  823979       0.0       1.0    1.0    0.000000    1.000000\n",
       "273    8261       0.0       1.0    1.0    0.000000    1.000000\n",
       "274  8263bs       0.0       1.0    1.0    0.000000    1.000000\n",
       "275    8267       0.0       1.0    1.0    0.000000    1.000000\n",
       "276    8296       0.0       1.0    1.0    0.000000    1.000000\n",
       "\n",
       "[277 rows x 6 columns]"
      ]
     },
     "execution_count": 203,
     "metadata": {},
     "output_type": "execute_result"
    }
   ],
   "source": [
    "df_differences = df_diff_is_match_vc.merge(df_diff_no_match_vc, left_index=True, right_index=True, how='outer').rename(columns={'differences_str_x': 'is_match', 'differences_str_y': 'no_match'} ).fillna(0)\n",
    "df_differences['sum'] = df_differences.sum(axis=1)\n",
    "df_differences['p_is_match'] = df_differences['is_match'] / df_differences['sum']\n",
    "df_differences['p_no_match'] = df_differences['no_match'] / df_differences['sum']\n",
    "df_differences = df_differences.sort_values('is_match', ascending=False).reset_index(names='value')\n",
    "df_differences"
   ]
  },
  {
   "cell_type": "markdown",
   "id": "05d2f8c1",
   "metadata": {},
   "source": [
    "#### Mean probability of matches given a numeric value in the differentiating string"
   ]
  },
  {
   "cell_type": "code",
   "execution_count": 206,
   "id": "b95ee5c9",
   "metadata": {},
   "outputs": [
    {
     "data": {
      "text/html": [
       "<div>\n",
       "<style scoped>\n",
       "    .dataframe tbody tr th:only-of-type {\n",
       "        vertical-align: middle;\n",
       "    }\n",
       "\n",
       "    .dataframe tbody tr th {\n",
       "        vertical-align: top;\n",
       "    }\n",
       "\n",
       "    .dataframe thead th {\n",
       "        text-align: right;\n",
       "    }\n",
       "</style>\n",
       "<table border=\"1\" class=\"dataframe\">\n",
       "  <thead>\n",
       "    <tr style=\"text-align: right;\">\n",
       "      <th></th>\n",
       "      <th>p_is_match</th>\n",
       "    </tr>\n",
       "    <tr>\n",
       "      <th>has_numbers</th>\n",
       "      <th></th>\n",
       "    </tr>\n",
       "  </thead>\n",
       "  <tbody>\n",
       "    <tr>\n",
       "      <th>False</th>\n",
       "      <td>0.440746</td>\n",
       "    </tr>\n",
       "    <tr>\n",
       "      <th>True</th>\n",
       "      <td>0.118644</td>\n",
       "    </tr>\n",
       "  </tbody>\n",
       "</table>\n",
       "</div>"
      ],
      "text/plain": [
       "             p_is_match\n",
       "has_numbers            \n",
       "False          0.440746\n",
       "True           0.118644"
      ]
     },
     "execution_count": 206,
     "metadata": {},
     "output_type": "execute_result"
    }
   ],
   "source": [
    "df_differences['has_numbers'] = df_differences['value'].apply(has_numbers)\n",
    "df_differences[df_differences['has_numbers'] == True].sort_values('is_match', ascending=False)\n",
    "df_differences.groupby('has_numbers')['p_is_match'].agg('mean').to_frame()"
   ]
  }
 ],
 "metadata": {
  "kernelspec": {
   "display_name": "Python 3 (ipykernel)",
   "language": "python",
   "name": "python3"
  },
  "language_info": {
   "codemirror_mode": {
    "name": "ipython",
    "version": 3
   },
   "file_extension": ".py",
   "mimetype": "text/x-python",
   "name": "python",
   "nbconvert_exporter": "python",
   "pygments_lexer": "ipython3",
   "version": "3.9.12"
  }
 },
 "nbformat": 4,
 "nbformat_minor": 5
}
