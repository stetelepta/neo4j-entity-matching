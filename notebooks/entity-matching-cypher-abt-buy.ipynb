{
 "cells": [
  {
   "cell_type": "markdown",
   "id": "8e7e7b80-d626-4094-86e9-c62bca2c997c",
   "metadata": {},
   "source": [
    "# Abt Buy - Entity Matching using Neo4j\n",
    "\n",
    "_Salomon Tetelepta, April 27th 2024_\n",
    "* Notebook to explore entity matching using a graph representation of the Abt-Buy Dataset\n",
    "\n",
    "* See how well we can perform on the [paperswithcode benchmark](https://paperswithcode.com/sota/entity-resolution-on-abt-buy).\n",
    "\n",
    "* Datamodel:\n",
    "\n",
    "```\n",
    "    * (Item {id: source_id})-[:MATCH]->(Item {id: target_id})\n",
    "    * (Item)-[:HAS_NAME]->(:Name {value: [original name]})\n",
    "    * (Item)-[:HAS_DESCRIPTION]->(:Description)\n",
    "    * (Name)-[:HAS_WORD]->(:Word {value: [preprocesed value], raw_value: [original_value]})\n",
    "    * (Description)-[:HAS_WORD]->(:Word {value: [preprocesed value], raw_value: [original_value]})\n",
    "    * (Item)-[:HAS_MANUFACTURER]->(:Manufacturer)\n",
    "```"
   ]
  },
  {
   "cell_type": "markdown",
   "id": "c8b93c37-f0a9-46c8-82e9-dd7ff1f6f2f0",
   "metadata": {},
   "source": [
    "### Install dependencies"
   ]
  },
  {
   "cell_type": "code",
   "execution_count": 1,
   "id": "722da72e-0aaf-4023-bdc4-22853d1c9cb8",
   "metadata": {
    "tags": []
   },
   "outputs": [
    {
     "name": "stdout",
     "output_type": "stream",
     "text": [
      "neo4j: 5.17.0\n",
      "\n"
     ]
    }
   ],
   "source": [
    "!pip install neo4j python-dotenv langchain-community --quiet\n",
    "\n",
    "%load_ext watermark\n",
    "%watermark -p neo4j"
   ]
  },
  {
   "cell_type": "markdown",
   "id": "9f718c68-90df-407e-87e3-8235c2f06180",
   "metadata": {},
   "source": [
    "### Imports"
   ]
  },
  {
   "cell_type": "code",
   "execution_count": 2,
   "id": "b3a5300d-35fe-4929-b7a8-ded5d5d64a1c",
   "metadata": {
    "tags": []
   },
   "outputs": [],
   "source": [
    "from dotenv import load_dotenv, find_dotenv, dotenv_values\n",
    "from langchain_community.graphs import Neo4jGraph\n",
    "from pathlib import Path\n",
    "from sklearn.manifold import TSNE\n",
    "from sklearn.metrics import PrecisionRecallDisplay\n",
    "from sklearn.metrics import accuracy_score, classification_report, confusion_matrix, f1_score\n",
    "from sklearn.metrics.pairwise import cosine_similarity\n",
    "from sklearn.model_selection import train_test_split\n",
    "from sklearn.tree import DecisionTreeClassifier\n",
    "from wordfreq import lossy_tokenize, tokenize, word_frequency\n",
    "\n",
    "import json\n",
    "import matplotlib.pyplot as plt\n",
    "import neo4j\n",
    "import numpy as np\n",
    "\n",
    "import os\n",
    "import pandas as pd\n",
    "import pickle\n",
    "import re"
   ]
  },
  {
   "cell_type": "code",
   "execution_count": 3,
   "id": "91d057fe",
   "metadata": {},
   "outputs": [],
   "source": [
    "from utils import build_queries, build_match_queries"
   ]
  },
  {
   "cell_type": "markdown",
   "id": "9836fbd4-fa26-49c7-b758-d01d2fc2e97c",
   "metadata": {},
   "source": [
    "### Settings"
   ]
  },
  {
   "cell_type": "code",
   "execution_count": 4,
   "id": "41d7b49c-ce17-42d0-85cc-fe21f86a8318",
   "metadata": {
    "tags": []
   },
   "outputs": [],
   "source": [
    "# path settings\n",
    "project_path = Path(os.getcwd()).parent\n",
    "data_path = project_path / \"data\"\n",
    "output_path = project_path / \"output\"\n",
    "\n",
    "database = \"abt-buy\"\n",
    "\n",
    "# load env settings\n",
    "load_dotenv(project_path / \".env\")\n",
    "\n",
    "# reproducability\n",
    "np.random.seed(42)"
   ]
  },
  {
   "cell_type": "markdown",
   "id": "8dfbe0a7-229a-47b5-8f9c-88bb567b0889",
   "metadata": {},
   "source": [
    "### 1. Load Data"
   ]
  },
  {
   "cell_type": "code",
   "execution_count": 5,
   "id": "28d3c50b",
   "metadata": {
    "tags": []
   },
   "outputs": [
    {
     "data": {
      "text/plain": [
       "['2_buy.csv', '1_abt.csv']"
      ]
     },
     "execution_count": 5,
     "metadata": {},
     "output_type": "execute_result"
    }
   ],
   "source": [
    "os.listdir(data_path / 'abt-buy' / 'record_descriptions')"
   ]
  },
  {
   "cell_type": "code",
   "execution_count": 6,
   "id": "4237c131-bcea-41b1-8664-881d6315ebf2",
   "metadata": {
    "tags": []
   },
   "outputs": [
    {
     "data": {
      "text/html": [
       "<div>\n",
       "<style scoped>\n",
       "    .dataframe tbody tr th:only-of-type {\n",
       "        vertical-align: middle;\n",
       "    }\n",
       "\n",
       "    .dataframe tbody tr th {\n",
       "        vertical-align: top;\n",
       "    }\n",
       "\n",
       "    .dataframe thead th {\n",
       "        text-align: right;\n",
       "    }\n",
       "</style>\n",
       "<table border=\"1\" class=\"dataframe\">\n",
       "  <thead>\n",
       "    <tr style=\"text-align: right;\">\n",
       "      <th></th>\n",
       "      <th>subject_id_x</th>\n",
       "      <th>name_x</th>\n",
       "      <th>description_x</th>\n",
       "      <th>manufacturer</th>\n",
       "      <th>price_x</th>\n",
       "      <th>subject_id_y</th>\n",
       "      <th>name_y</th>\n",
       "      <th>description_y</th>\n",
       "      <th>price_y</th>\n",
       "      <th>source_id</th>\n",
       "      <th>target_id</th>\n",
       "      <th>matching</th>\n",
       "    </tr>\n",
       "  </thead>\n",
       "  <tbody>\n",
       "    <tr>\n",
       "      <th>0</th>\n",
       "      <td>207390654</td>\n",
       "      <td>Sony Handycam HDR-SR10 High Definition Digital...</td>\n",
       "      <td>16:9 - 2.7' Hybrid LCD</td>\n",
       "      <td>Sony</td>\n",
       "      <td>549.0</td>\n",
       "      <td>33161</td>\n",
       "      <td>Sony High Definition HDV Handycam Camcorder - ...</td>\n",
       "      <td>Sony High Definition HDV Handycam Camcorder - ...</td>\n",
       "      <td>NaN</td>\n",
       "      <td>33161</td>\n",
       "      <td>207390654</td>\n",
       "      <td>False</td>\n",
       "    </tr>\n",
       "    <tr>\n",
       "      <th>1</th>\n",
       "      <td>208085180</td>\n",
       "      <td>Pioneer DEH-2000MP Car Audio Player</td>\n",
       "      <td>CD-RW - CD-Text, MP3, WMA, WAV - LCD - 4 - 200...</td>\n",
       "      <td>Pioneer</td>\n",
       "      <td>84.0</td>\n",
       "      <td>36258</td>\n",
       "      <td>D-Link Broadband Cable Modem - DCM202</td>\n",
       "      <td>D-Link Broadband Cable Modem - DCM202/ DOCSIS ...</td>\n",
       "      <td>79.00</td>\n",
       "      <td>36258</td>\n",
       "      <td>208085180</td>\n",
       "      <td>False</td>\n",
       "    </tr>\n",
       "    <tr>\n",
       "      <th>2</th>\n",
       "      <td>90125786</td>\n",
       "      <td>Sanus Wall/Ceiling Speaker Mount - WMS3S SILVER</td>\n",
       "      <td>Plastic - 8 lb</td>\n",
       "      <td>Sanus</td>\n",
       "      <td>NaN</td>\n",
       "      <td>17417</td>\n",
       "      <td>Sanus 13' - 30' VisionMount Flat Panel TV Silv...</td>\n",
       "      <td>Sanus 13' - 30' VisionMount Flat Panel TV Silv...</td>\n",
       "      <td>39.99</td>\n",
       "      <td>17417</td>\n",
       "      <td>90125786</td>\n",
       "      <td>False</td>\n",
       "    </tr>\n",
       "  </tbody>\n",
       "</table>\n",
       "</div>"
      ],
      "text/plain": [
       "   subject_id_x                                             name_x  \\\n",
       "0     207390654  Sony Handycam HDR-SR10 High Definition Digital...   \n",
       "1     208085180                Pioneer DEH-2000MP Car Audio Player   \n",
       "2      90125786    Sanus Wall/Ceiling Speaker Mount - WMS3S SILVER   \n",
       "\n",
       "                                       description_x manufacturer  price_x  \\\n",
       "0                             16:9 - 2.7' Hybrid LCD         Sony    549.0   \n",
       "1  CD-RW - CD-Text, MP3, WMA, WAV - LCD - 4 - 200...      Pioneer     84.0   \n",
       "2                                     Plastic - 8 lb        Sanus      NaN   \n",
       "\n",
       "   subject_id_y                                             name_y  \\\n",
       "0         33161  Sony High Definition HDV Handycam Camcorder - ...   \n",
       "1         36258              D-Link Broadband Cable Modem - DCM202   \n",
       "2         17417  Sanus 13' - 30' VisionMount Flat Panel TV Silv...   \n",
       "\n",
       "                                       description_y  price_y  source_id  \\\n",
       "0  Sony High Definition HDV Handycam Camcorder - ...      NaN      33161   \n",
       "1  D-Link Broadband Cable Modem - DCM202/ DOCSIS ...    79.00      36258   \n",
       "2  Sanus 13' - 30' VisionMount Flat Panel TV Silv...    39.99      17417   \n",
       "\n",
       "   target_id  matching  \n",
       "0  207390654     False  \n",
       "1  208085180     False  \n",
       "2   90125786     False  "
      ]
     },
     "execution_count": 6,
     "metadata": {},
     "output_type": "execute_result"
    }
   ],
   "source": [
    "# abt and buy records\n",
    "df_abt = pd.read_csv(data_path / 'abt-buy' / 'record_descriptions' / '1_abt.csv', encoding='unicode_escape')\n",
    "df_buy = pd.read_csv(data_path / 'abt-buy' / 'record_descriptions' / '2_buy.csv')\n",
    "\n",
    "# matches - train and validation set\n",
    "df_train = pd.read_csv(data_path / 'abt-buy' / 'gs_train.csv')\n",
    "df_val = pd.read_csv(data_path / 'abt-buy' / 'gs_val.csv')\n",
    "\n",
    "# merge records with matches\n",
    "df_abt_merged = df_abt.merge(df_train, left_on='subject_id', right_on='source_id', how='right')\n",
    "df_train_merged = df_buy.merge(df_abt_merged, left_on='subject_id', right_on='target_id', how='right')\n",
    "\n",
    "df_train_merged.head(3)"
   ]
  },
  {
   "cell_type": "markdown",
   "id": "124aa4ad-667e-4c84-a38c-44c27a3e7fbe",
   "metadata": {},
   "source": [
    "### Create graph"
   ]
  },
  {
   "cell_type": "code",
   "execution_count": 7,
   "id": "a70a5c39-9f21-49b4-905e-1385499f93e2",
   "metadata": {
    "tags": []
   },
   "outputs": [
    {
     "name": "stdout",
     "output_type": "stream",
     "text": [
      "database: abt-buy\n"
     ]
    },
    {
     "data": {
      "text/plain": [
       "[{'count(n)': 0}]"
      ]
     },
     "execution_count": 7,
     "metadata": {},
     "output_type": "execute_result"
    }
   ],
   "source": [
    "# connect to Neo4j\n",
    "graph = Neo4jGraph(\n",
    "    url=os.getenv('NEO4J_URL'),\n",
    "    username=os.getenv('NEO4J_USER'),\n",
    "    password=os.getenv('NEO4J_PASS')\n",
    ")\n",
    "\n",
    "# create database if does not exist\n",
    "graph._database = \"system\"\n",
    "query = f\"CREATE DATABASE `{database}` IF NOT EXISTS\"\n",
    "graph.query(query)\n",
    "\n",
    "# change to target database\n",
    "graph._database = database\n",
    "print(\"database:\", graph._database)\n",
    "\n",
    "# check nr nodes in the graph\n",
    "graph.query(\"MATCH (n) RETURN count(n)\")"
   ]
  },
  {
   "cell_type": "markdown",
   "id": "2f82db22",
   "metadata": {},
   "source": [
    "#### Parse records - add to graph"
   ]
  },
  {
   "cell_type": "code",
   "execution_count": 8,
   "id": "7fa82dee-f590-4ad4-94ab-1120cdca353d",
   "metadata": {
    "tags": []
   },
   "outputs": [
    {
     "name": "stdout",
     "output_type": "stream",
     "text": [
      "- processing abt: 0/1081\n",
      "- processing abt: 250/1081\n",
      "- processing abt: 500/1081\n",
      "- processing abt: 750/1081\n",
      "- processing abt: 1000/1081\n",
      "1081 records for abt\n",
      "- processing buy: 0/1092\n",
      "- processing buy: 250/1092\n",
      "- processing buy: 500/1092\n",
      "- processing buy: 750/1092\n",
      "- processing buy: 1000/1092\n",
      "1092 records for buy\n",
      "CPU times: user 2min 12s, sys: 17.5 s, total: 2min 30s\n",
      "Wall time: 19min 29s\n"
     ]
    }
   ],
   "source": [
    "%%time\n",
    "# Wall time: 19min 2s\n",
    "\n",
    "run_cell = True\n",
    "\n",
    "if run_cell == True:\n",
    "    delete_graph = True\n",
    "\n",
    "    n = len(df_abt)\n",
    "    if delete_graph == True:\n",
    "        query = \"MATCH (n) DETACH DELETE n\"\n",
    "        graph.query(query)\n",
    "\n",
    "    for i, (idx, row) in enumerate(df_abt.head(n).iterrows()):\n",
    "        if i % 250 == 0:\n",
    "            print(f\"- processing abt: {i}/{n}\")\n",
    "        queries = build_queries(row, source=\"abt\")\n",
    "        for query in queries:\n",
    "            graph.query(query)\n",
    "    print(f\"{n} records for abt\")\n",
    "\n",
    "    n = len(df_buy)\n",
    "    for i, (idx, row) in enumerate(df_buy.head(n).iterrows()):\n",
    "        if i % 250 == 0:\n",
    "            print(f\"- processing buy: {i}/{n}\")\n",
    "        queries = build_queries(row, source=\"buy\")\n",
    "        for query in queries:\n",
    "            graph.query(query)\n",
    "    print(f\"{n} records for buy\")"
   ]
  },
  {
   "cell_type": "markdown",
   "id": "19051f83-4e65-4b64-a7e3-e743711be9ec",
   "metadata": {},
   "source": [
    "#### Run queries for matches"
   ]
  },
  {
   "cell_type": "code",
   "execution_count": 9,
   "id": "6f832b3b-79e7-4014-b0c9-07388f68f7ce",
   "metadata": {
    "tags": []
   },
   "outputs": [
    {
     "name": "stdout",
     "output_type": "stream",
     "text": [
      "- processing matches: 0/5010\n",
      "- processing matches: 500/5010\n",
      "- processing matches: 1000/5010\n",
      "- processing matches: 1500/5010\n",
      "- processing matches: 2000/5010\n",
      "- processing matches: 2500/5010\n",
      "- processing matches: 3000/5010\n",
      "- processing matches: 3500/5010\n",
      "- processing matches: 4000/5010\n",
      "- processing matches: 4500/5010\n",
      "- processing matches: 5000/5010\n",
      "CPU times: user 6.37 s, sys: 957 ms, total: 7.33 s\n",
      "Wall time: 1min\n"
     ]
    }
   ],
   "source": [
    "%%time\n",
    "# Wall time: 1min 2s\n",
    "\n",
    "run_cell = True\n",
    "\n",
    "if run_cell == True:\n",
    "\n",
    "    n = len(df_train)\n",
    "    for i, (idx, row) in enumerate(df_train.head(n).iterrows()):\n",
    "        if i % 500 == 0:\n",
    "            print(f\"- processing matches: {i}/{n}\")\n",
    "\n",
    "        queries = build_match_queries(row)\n",
    "        for query in queries:\n",
    "            graph.query(query)"
   ]
  },
  {
   "cell_type": "markdown",
   "id": "a4f8356a-2369-4fdc-bd3d-3fda49906bd4",
   "metadata": {},
   "source": [
    "#### Set degree feature for words"
   ]
  },
  {
   "cell_type": "code",
   "execution_count": 10,
   "id": "1905843b-e11f-4f87-9975-1f1878705dcf",
   "metadata": {
    "tags": []
   },
   "outputs": [
    {
     "name": "stdout",
     "output_type": "stream",
     "text": [
      "CPU times: user 4 ms, sys: 2.94 ms, total: 6.93 ms\n",
      "Wall time: 111 ms\n"
     ]
    },
    {
     "data": {
      "text/plain": [
       "[]"
      ]
     },
     "execution_count": 10,
     "metadata": {},
     "output_type": "execute_result"
    }
   ],
   "source": [
    "%%time\n",
    "\n",
    "query = \"MATCH p=(w:Word)<-[:HAS_WORD]-(n:Name) WITH w, count(n) AS name_degree SET w.name_degree = name_degree;\"\n",
    "graph.query(query)\n",
    "\n",
    "query = \"MATCH p=(w:Word)<-[:HAS_WORD]-(n:Description) WITH w, count(n) AS description_degree SET w.description_degree = description_degree;\"\n",
    "graph.query(query)"
   ]
  },
  {
   "cell_type": "markdown",
   "id": "08da9bb5",
   "metadata": {},
   "source": [
    "#### Set display value for words"
   ]
  },
  {
   "cell_type": "code",
   "execution_count": 11,
   "id": "b0767d9d",
   "metadata": {},
   "outputs": [
    {
     "data": {
      "text/plain": [
       "[]"
      ]
     },
     "execution_count": 11,
     "metadata": {},
     "output_type": "execute_result"
    }
   ],
   "source": [
    "query = \"MATCH (w:Word) SET w.display_value = w.value + ' (' + w.name_degree + ')' \"\n",
    "graph.query(query)"
   ]
  },
  {
   "cell_type": "markdown",
   "id": "a43708a6",
   "metadata": {},
   "source": [
    "### Examples from the graph"
   ]
  },
  {
   "cell_type": "code",
   "execution_count": 12,
   "id": "19fe1a49",
   "metadata": {},
   "outputs": [
    {
     "data": {
      "text/plain": [
       "['2-example-similar-items.jpg', '1-example-match.jpg']"
      ]
     },
     "execution_count": 12,
     "metadata": {},
     "output_type": "execute_result"
    }
   ],
   "source": [
    "os.listdir(project_path / \"images\")"
   ]
  },
  {
   "cell_type": "markdown",
   "id": "f3ff3e44",
   "metadata": {},
   "source": [
    "<h4>Example of Items that are a match </h4>\n",
    "<img src=\"../images/1-example-match.jpg\">\n",
    "<hr>\n",
    "<h4>Example of both matched and non-matched items that share multiple words</h4>\n",
    "<img src=\"../images/2-example-similar-items.jpg\">"
   ]
  },
  {
   "cell_type": "markdown",
   "id": "dd0d625c",
   "metadata": {},
   "source": [
    "### Evaluation"
   ]
  },
  {
   "cell_type": "markdown",
   "id": "57cceffd",
   "metadata": {},
   "source": [
    "#### Baseline - random"
   ]
  },
  {
   "cell_type": "code",
   "execution_count": 13,
   "id": "50119cd4",
   "metadata": {},
   "outputs": [
    {
     "data": {
      "text/html": [
       "<div>\n",
       "<style scoped>\n",
       "    .dataframe tbody tr th:only-of-type {\n",
       "        vertical-align: middle;\n",
       "    }\n",
       "\n",
       "    .dataframe tbody tr th {\n",
       "        vertical-align: top;\n",
       "    }\n",
       "\n",
       "    .dataframe thead th {\n",
       "        text-align: right;\n",
       "    }\n",
       "</style>\n",
       "<table border=\"1\" class=\"dataframe\">\n",
       "  <thead>\n",
       "    <tr style=\"text-align: right;\">\n",
       "      <th></th>\n",
       "      <th>model</th>\n",
       "      <th>prec</th>\n",
       "      <th>recall</th>\n",
       "      <th>fscore</th>\n",
       "    </tr>\n",
       "  </thead>\n",
       "  <tbody>\n",
       "    <tr>\n",
       "      <th>3</th>\n",
       "      <td>random_baseline_seed_3</td>\n",
       "      <td>0.150892</td>\n",
       "      <td>0.500000</td>\n",
       "      <td>0.231823</td>\n",
       "    </tr>\n",
       "    <tr>\n",
       "      <th>2</th>\n",
       "      <td>random_baseline_seed_2</td>\n",
       "      <td>0.152047</td>\n",
       "      <td>0.472727</td>\n",
       "      <td>0.230088</td>\n",
       "    </tr>\n",
       "    <tr>\n",
       "      <th>0</th>\n",
       "      <td>random_baseline_seed_0</td>\n",
       "      <td>0.139633</td>\n",
       "      <td>0.450000</td>\n",
       "      <td>0.213132</td>\n",
       "    </tr>\n",
       "    <tr>\n",
       "      <th>1</th>\n",
       "      <td>random_baseline_seed_1</td>\n",
       "      <td>0.135061</td>\n",
       "      <td>0.450000</td>\n",
       "      <td>0.207765</td>\n",
       "    </tr>\n",
       "    <tr>\n",
       "      <th>4</th>\n",
       "      <td>random_baseline_seed_4</td>\n",
       "      <td>0.129428</td>\n",
       "      <td>0.431818</td>\n",
       "      <td>0.199161</td>\n",
       "    </tr>\n",
       "  </tbody>\n",
       "</table>\n",
       "</div>"
      ],
      "text/plain": [
       "                    model      prec    recall    fscore\n",
       "3  random_baseline_seed_3  0.150892  0.500000  0.231823\n",
       "2  random_baseline_seed_2  0.152047  0.472727  0.230088\n",
       "0  random_baseline_seed_0  0.139633  0.450000  0.213132\n",
       "1  random_baseline_seed_1  0.135061  0.450000  0.207765\n",
       "4  random_baseline_seed_4  0.129428  0.431818  0.199161"
      ]
     },
     "execution_count": 13,
     "metadata": {},
     "output_type": "execute_result"
    }
   ],
   "source": [
    "results_baseline = []\n",
    "for seed in np.arange(5):\n",
    "    np.random.seed(seed)\n",
    "    p = np.round(np.random.rand(len(df_val)))\n",
    "    from sklearn.metrics import precision_recall_fscore_support\n",
    "    prec, recall, fscore, support = precision_recall_fscore_support(df_val['matching'], p, average='binary')\n",
    "\n",
    "    results_baseline.append({'model': f'random_baseline_seed_{seed}', 'prec': prec, 'recall': recall, 'fscore': fscore})\n",
    "df_results_baseline = pd.DataFrame(results_baseline).sort_values('fscore', ascending=False)\n",
    "df_results_baseline "
   ]
  },
  {
   "cell_type": "markdown",
   "id": "02e9dcba",
   "metadata": {},
   "source": [
    "#### Model: Items share words with name degree below threshold"
   ]
  },
  {
   "cell_type": "code",
   "execution_count": 14,
   "id": "23135994",
   "metadata": {},
   "outputs": [
    {
     "name": "stdout",
     "output_type": "stream",
     "text": [
      "thresholds: [  1   2   3   4   5   6   7  10  15  20  30  40  10  20  30  40  50 100]\n",
      "CPU times: user 16.3 s, sys: 2 s, total: 18.3 s\n",
      "Wall time: 25.4 s\n"
     ]
    },
    {
     "data": {
      "text/html": [
       "<div>\n",
       "<style scoped>\n",
       "    .dataframe tbody tr th:only-of-type {\n",
       "        vertical-align: middle;\n",
       "    }\n",
       "\n",
       "    .dataframe tbody tr th {\n",
       "        vertical-align: top;\n",
       "    }\n",
       "\n",
       "    .dataframe thead th {\n",
       "        text-align: right;\n",
       "    }\n",
       "</style>\n",
       "<table border=\"1\" class=\"dataframe\">\n",
       "  <thead>\n",
       "    <tr style=\"text-align: right;\">\n",
       "      <th></th>\n",
       "      <th>threshold</th>\n",
       "      <th>model</th>\n",
       "      <th>prec</th>\n",
       "      <th>recall</th>\n",
       "      <th>fscore</th>\n",
       "    </tr>\n",
       "  </thead>\n",
       "  <tbody>\n",
       "    <tr>\n",
       "      <th>3</th>\n",
       "      <td>6</td>\n",
       "      <td>shared_word_threshold_6</td>\n",
       "      <td>0.851852</td>\n",
       "      <td>0.734043</td>\n",
       "      <td>0.788571</td>\n",
       "    </tr>\n",
       "    <tr>\n",
       "      <th>2</th>\n",
       "      <td>5</td>\n",
       "      <td>shared_word_threshold_5</td>\n",
       "      <td>0.889908</td>\n",
       "      <td>0.702899</td>\n",
       "      <td>0.785425</td>\n",
       "    </tr>\n",
       "    <tr>\n",
       "      <th>4</th>\n",
       "      <td>7</td>\n",
       "      <td>shared_word_threshold_7</td>\n",
       "      <td>0.796491</td>\n",
       "      <td>0.761745</td>\n",
       "      <td>0.778731</td>\n",
       "    </tr>\n",
       "    <tr>\n",
       "      <th>1</th>\n",
       "      <td>4</td>\n",
       "      <td>shared_word_threshold_4</td>\n",
       "      <td>0.942857</td>\n",
       "      <td>0.644531</td>\n",
       "      <td>0.765661</td>\n",
       "    </tr>\n",
       "    <tr>\n",
       "      <th>5</th>\n",
       "      <td>10</td>\n",
       "      <td>shared_word_threshold_10</td>\n",
       "      <td>0.716253</td>\n",
       "      <td>0.804954</td>\n",
       "      <td>0.758017</td>\n",
       "    </tr>\n",
       "    <tr>\n",
       "      <th>10</th>\n",
       "      <td>10</td>\n",
       "      <td>shared_word_threshold_10</td>\n",
       "      <td>0.716253</td>\n",
       "      <td>0.804954</td>\n",
       "      <td>0.758017</td>\n",
       "    </tr>\n",
       "    <tr>\n",
       "      <th>0</th>\n",
       "      <td>3</td>\n",
       "      <td>shared_word_threshold_3</td>\n",
       "      <td>0.965753</td>\n",
       "      <td>0.585062</td>\n",
       "      <td>0.728682</td>\n",
       "    </tr>\n",
       "    <tr>\n",
       "      <th>6</th>\n",
       "      <td>15</td>\n",
       "      <td>shared_word_threshold_15</td>\n",
       "      <td>0.620482</td>\n",
       "      <td>0.844262</td>\n",
       "      <td>0.715278</td>\n",
       "    </tr>\n",
       "    <tr>\n",
       "      <th>7</th>\n",
       "      <td>20</td>\n",
       "      <td>shared_word_threshold_20</td>\n",
       "      <td>0.535127</td>\n",
       "      <td>0.879607</td>\n",
       "      <td>0.665428</td>\n",
       "    </tr>\n",
       "    <tr>\n",
       "      <th>11</th>\n",
       "      <td>20</td>\n",
       "      <td>shared_word_threshold_20</td>\n",
       "      <td>0.535127</td>\n",
       "      <td>0.879607</td>\n",
       "      <td>0.665428</td>\n",
       "    </tr>\n",
       "    <tr>\n",
       "      <th>8</th>\n",
       "      <td>30</td>\n",
       "      <td>shared_word_threshold_30</td>\n",
       "      <td>0.462887</td>\n",
       "      <td>0.941300</td>\n",
       "      <td>0.620594</td>\n",
       "    </tr>\n",
       "    <tr>\n",
       "      <th>12</th>\n",
       "      <td>30</td>\n",
       "      <td>shared_word_threshold_30</td>\n",
       "      <td>0.462887</td>\n",
       "      <td>0.941300</td>\n",
       "      <td>0.620594</td>\n",
       "    </tr>\n",
       "    <tr>\n",
       "      <th>9</th>\n",
       "      <td>40</td>\n",
       "      <td>shared_word_threshold_40</td>\n",
       "      <td>0.403405</td>\n",
       "      <td>0.964602</td>\n",
       "      <td>0.568894</td>\n",
       "    </tr>\n",
       "    <tr>\n",
       "      <th>13</th>\n",
       "      <td>40</td>\n",
       "      <td>shared_word_threshold_40</td>\n",
       "      <td>0.403405</td>\n",
       "      <td>0.964602</td>\n",
       "      <td>0.568894</td>\n",
       "    </tr>\n",
       "    <tr>\n",
       "      <th>14</th>\n",
       "      <td>50</td>\n",
       "      <td>shared_word_threshold_50</td>\n",
       "      <td>0.373045</td>\n",
       "      <td>0.976378</td>\n",
       "      <td>0.539835</td>\n",
       "    </tr>\n",
       "    <tr>\n",
       "      <th>15</th>\n",
       "      <td>100</td>\n",
       "      <td>shared_word_threshold_100</td>\n",
       "      <td>0.301141</td>\n",
       "      <td>0.991329</td>\n",
       "      <td>0.461953</td>\n",
       "    </tr>\n",
       "  </tbody>\n",
       "</table>\n",
       "</div>"
      ],
      "text/plain": [
       "    threshold                      model      prec    recall    fscore\n",
       "3           6    shared_word_threshold_6  0.851852  0.734043  0.788571\n",
       "2           5    shared_word_threshold_5  0.889908  0.702899  0.785425\n",
       "4           7    shared_word_threshold_7  0.796491  0.761745  0.778731\n",
       "1           4    shared_word_threshold_4  0.942857  0.644531  0.765661\n",
       "5          10   shared_word_threshold_10  0.716253  0.804954  0.758017\n",
       "10         10   shared_word_threshold_10  0.716253  0.804954  0.758017\n",
       "0           3    shared_word_threshold_3  0.965753  0.585062  0.728682\n",
       "6          15   shared_word_threshold_15  0.620482  0.844262  0.715278\n",
       "7          20   shared_word_threshold_20  0.535127  0.879607  0.665428\n",
       "11         20   shared_word_threshold_20  0.535127  0.879607  0.665428\n",
       "8          30   shared_word_threshold_30  0.462887  0.941300  0.620594\n",
       "12         30   shared_word_threshold_30  0.462887  0.941300  0.620594\n",
       "9          40   shared_word_threshold_40  0.403405  0.964602  0.568894\n",
       "13         40   shared_word_threshold_40  0.403405  0.964602  0.568894\n",
       "14         50   shared_word_threshold_50  0.373045  0.976378  0.539835\n",
       "15        100  shared_word_threshold_100  0.301141  0.991329  0.461953"
      ]
     },
     "execution_count": 14,
     "metadata": {},
     "output_type": "execute_result"
    }
   ],
   "source": [
    "%%time\n",
    "\n",
    "results = []\n",
    "\n",
    "thresholds = np.concatenate([np.arange(8), np.arange(10, 20, 5), np.arange(20, 50, 10), np.arange(10, 50, 10), np.arange(50, 150, 50)])[1:]\n",
    "print(\"thresholds:\", thresholds)\n",
    "\n",
    "# Wall time: 29.3 s\n",
    "for name_degree_threshold in thresholds:\n",
    "    query = f\"\"\"\n",
    "    MATCH p1=(i1:Item)-[:HAS_NAME]->(n1:Name)-[:HAS_WORD]->(w:Word)<-[:HAS_WORD]-(n2:Name)<-[:HAS_NAME]-(i2:Item)\n",
    "    WHERE n1 <> n2\n",
    "    AND w.name_degree < {name_degree_threshold}\n",
    "    RETURN i1.subject_id, i2.subject_id\"\"\"\n",
    "    df_p = pd.DataFrame(graph.query(query))\n",
    "\n",
    "    if len(df_p) > 0:\n",
    "    \n",
    "        df_val_p = df_val.merge(df_p, left_on=['source_id', 'target_id'], right_on=['i1.subject_id', 'i2.subject_id'], how='left')\n",
    "        df_val_p['p'] = df_val_p['i1.subject_id'] > 0\n",
    "\n",
    "        prec, recall, fscore, support = precision_recall_fscore_support(df_val_p['matching'], df_val_p['p'], average='binary')\n",
    "\n",
    "        results.append({'threshold': name_degree_threshold, 'model': f'shared_word_threshold_{name_degree_threshold}', 'prec': prec, 'recall': recall, 'fscore': fscore})\n",
    "\n",
    "df_results = pd.DataFrame(results).sort_values('fscore', ascending=False)\n",
    "df_results"
   ]
  },
  {
   "cell_type": "code",
   "execution_count": 15,
   "id": "8a1aff71",
   "metadata": {},
   "outputs": [],
   "source": [
    "df_results_baseline.to_csv(output_path / \"results_baseline.csv\", index=False)\n",
    "df_results.to_csv(output_path / \"results.csv\", index=False)"
   ]
  },
  {
   "cell_type": "markdown",
   "id": "2db5e9d7",
   "metadata": {},
   "source": [
    "#### Visualize precision, recall and fscore for different thresholds"
   ]
  },
  {
   "cell_type": "code",
   "execution_count": 16,
   "id": "4392c58b",
   "metadata": {},
   "outputs": [
    {
     "name": "stdout",
     "output_type": "stream",
     "text": [
      "Best model:\n"
     ]
    },
    {
     "data": {
      "text/html": [
       "<div>\n",
       "<style scoped>\n",
       "    .dataframe tbody tr th:only-of-type {\n",
       "        vertical-align: middle;\n",
       "    }\n",
       "\n",
       "    .dataframe tbody tr th {\n",
       "        vertical-align: top;\n",
       "    }\n",
       "\n",
       "    .dataframe thead th {\n",
       "        text-align: right;\n",
       "    }\n",
       "</style>\n",
       "<table border=\"1\" class=\"dataframe\">\n",
       "  <thead>\n",
       "    <tr style=\"text-align: right;\">\n",
       "      <th></th>\n",
       "      <th>threshold</th>\n",
       "      <th>model</th>\n",
       "      <th>prec</th>\n",
       "      <th>recall</th>\n",
       "      <th>fscore</th>\n",
       "    </tr>\n",
       "  </thead>\n",
       "  <tbody>\n",
       "    <tr>\n",
       "      <th>3</th>\n",
       "      <td>6</td>\n",
       "      <td>shared_word_threshold_6</td>\n",
       "      <td>0.851852</td>\n",
       "      <td>0.734043</td>\n",
       "      <td>0.788571</td>\n",
       "    </tr>\n",
       "  </tbody>\n",
       "</table>\n",
       "</div>"
      ],
      "text/plain": [
       "   threshold                    model      prec    recall    fscore\n",
       "3          6  shared_word_threshold_6  0.851852  0.734043  0.788571"
      ]
     },
     "metadata": {},
     "output_type": "display_data"
    },
    {
     "data": {
      "image/png": "[encoded data removed]",
      "text/plain": [
       "<Figure size 700x500 with 1 Axes>"
      ]
     },
     "metadata": {},
     "output_type": "display_data"
    }
   ],
   "source": [
    "print(\"Best model:\")\n",
    "display(df_results.head(1))\n",
    "x = df_results['prec']\n",
    "y1 = df_results['recall']\n",
    "y2 = df_results['fscore']\n",
    "s = df_results['threshold']\n",
    "\n",
    "plt.figure(figsize=(7, 5))\n",
    "plt.title(\"Precision and recall for different thresholds\")\n",
    "plt.scatter(x, y1, label=\"recall\", marker=\"o\")\n",
    "plt.scatter(x, y2, label=\"fscore\", marker=\"x\")\n",
    "plt.xlabel(\"precision\")\n",
    "plt.ylabel(\"recall\")\n",
    "ax2 = plt.gca().secondary_yaxis('right')\n",
    "ax2.set_ylabel(\"fscore\")\n",
    "for i, ss in enumerate(s.values):\n",
    "    plt.text(x.values[i] - 0.01, y1.values[i] - 0.04, f\"t={ss}\", fontsize=6, alpha=0.8)\n",
    "\n",
    "fmax_random = df_results_baseline['fscore'].max()\n",
    "fmax_model = df_results['fscore'].max()\n",
    "\n",
    "plt.axhline(fmax_random, label=f\"max fscore random baseline ({fmax_random:.2f})\", color=\"k\", linestyle=\"-.\", linewidth=1)\n",
    "plt.axhline(fmax_model, label=f\"max fscore ({fmax_model:.2f})\", color=\"orange\", linestyle=\"-.\", linewidth=1)\n",
    "plt.legend(loc=\"upper right\", bbox_to_anchor=(1.65, 1))\n",
    "plt.show()"
   ]
  }
 ],
 "metadata": {
  "kernelspec": {
   "display_name": "Python 3 (ipykernel)",
   "language": "python",
   "name": "python3"
  },
  "language_info": {
   "codemirror_mode": {
    "name": "ipython",
    "version": 3
   },
   "file_extension": ".py",
   "mimetype": "text/x-python",
   "name": "python",
   "nbconvert_exporter": "python",
   "pygments_lexer": "ipython3",
   "version": "3.9.12"
  }
 },
 "nbformat": 4,
 "nbformat_minor": 5
}
